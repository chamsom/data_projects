{
 "cells": [
  {
   "cell_type": "markdown",
   "metadata": {},
   "source": [
    "## LoL Champion Selection & Difficulty Analysis\n",
    "----\n",
    "\n",
    "This notebook uses heatmap visualizations to explore the relationship between champion archetypes and difficulty ratings in League of Legends. The analysis reveals patterns in how different champion types correlate with gameplay complexity, providing insights for new players when selecting champions while learning the game."
   ]
  },
  {
   "cell_type": "code",
   "execution_count": null,
   "metadata": {
    "_cell_guid": "b1076dfc-b9ad-4769-8c92-a6c4dae69d19",
    "_uuid": "8f2839f25d086af736a60e9eeb907d3b93b6e0e5",
    "execution": {
     "iopub.execute_input": "2025-07-29T03:43:00.284597Z",
     "iopub.status.busy": "2025-07-29T03:43:00.284278Z",
     "iopub.status.idle": "2025-07-29T03:43:00.931164Z",
     "shell.execute_reply": "2025-07-29T03:43:00.930045Z",
     "shell.execute_reply.started": "2025-07-29T03:43:00.284573Z"
    },
    "trusted": true
   },
   "outputs": [
    {
     "ename": "",
     "evalue": "",
     "output_type": "error",
     "traceback": [
      "\u001b[1;31mRunning cells with 'Python 3.13.0' requires the ipykernel package.\n",
      "\u001b[1;31m<a href='command:jupyter.createPythonEnvAndSelectController'>Create a Python Environment</a> with the required packages.\n",
      "\u001b[1;31mOr install 'ipykernel' using the command: '/opt/homebrew/bin/python3 -m pip install ipykernel -U --user --force-reinstall'"
     ]
    }
   ],
   "source": [
    "import numpy as np \n",
    "import pandas as pd\n",
    "import plotly.express as px\n",
    "import plotly.graph_objects as go\n",
    "import os\n",
    "\n",
    "for dirname, _, filenames in os.walk('/kaggle/input/'):\n",
    "    for filename in filenames:\n",
    "        file_path = os.path.join(dirname, filename)\n",
    "\n",
    "df = pd.read_csv(file_path)"
   ]
  },
  {
   "cell_type": "markdown",
   "metadata": {},
   "source": [
    "## Data Validation\n",
    "----\n",
    "\n",
    "Checking the data's shape along with any missing values."
   ]
  },
  {
   "cell_type": "code",
   "execution_count": 2,
   "metadata": {
    "execution": {
     "iopub.execute_input": "2025-07-29T03:43:00.932677Z",
     "iopub.status.busy": "2025-07-29T03:43:00.932328Z",
     "iopub.status.idle": "2025-07-29T03:43:00.940077Z",
     "shell.execute_reply": "2025-07-29T03:43:00.939078Z",
     "shell.execute_reply.started": "2025-07-29T03:43:00.932641Z"
    },
    "trusted": true
   },
   "outputs": [
    {
     "data": {
      "text/plain": [
       "(172, 33)"
      ]
     },
     "execution_count": 2,
     "metadata": {},
     "output_type": "execute_result"
    }
   ],
   "source": [
    "df.shape"
   ]
  },
  {
   "cell_type": "code",
   "execution_count": 3,
   "metadata": {
    "execution": {
     "iopub.execute_input": "2025-07-29T03:43:00.942882Z",
     "iopub.status.busy": "2025-07-29T03:43:00.942527Z",
     "iopub.status.idle": "2025-07-29T03:43:00.984819Z",
     "shell.execute_reply": "2025-07-29T03:43:00.983656Z",
     "shell.execute_reply.started": "2025-07-29T03:43:00.942857Z"
    },
    "trusted": true
   },
   "outputs": [
    {
     "data": {
      "text/html": [
       "<div>\n",
       "<style scoped>\n",
       "    .dataframe tbody tr th:only-of-type {\n",
       "        vertical-align: middle;\n",
       "    }\n",
       "\n",
       "    .dataframe tbody tr th {\n",
       "        vertical-align: top;\n",
       "    }\n",
       "\n",
       "    .dataframe thead th {\n",
       "        text-align: right;\n",
       "    }\n",
       "</style>\n",
       "<table border=\"1\" class=\"dataframe\">\n",
       "  <thead>\n",
       "    <tr style=\"text-align: right;\">\n",
       "      <th></th>\n",
       "      <th>Unnamed: 0</th>\n",
       "      <th>id</th>\n",
       "      <th>apiname</th>\n",
       "      <th>title</th>\n",
       "      <th>difficulty</th>\n",
       "      <th>herotype</th>\n",
       "      <th>alttype</th>\n",
       "      <th>resource</th>\n",
       "      <th>stats</th>\n",
       "      <th>rangetype</th>\n",
       "      <th>...</th>\n",
       "      <th>be</th>\n",
       "      <th>rp</th>\n",
       "      <th>skill_i</th>\n",
       "      <th>skill_q</th>\n",
       "      <th>skill_w</th>\n",
       "      <th>skill_e</th>\n",
       "      <th>skill_r</th>\n",
       "      <th>skills</th>\n",
       "      <th>fullname</th>\n",
       "      <th>nickname</th>\n",
       "    </tr>\n",
       "  </thead>\n",
       "  <tbody>\n",
       "    <tr>\n",
       "      <th>0</th>\n",
       "      <td>Aatrox</td>\n",
       "      <td>266.0</td>\n",
       "      <td>Aatrox</td>\n",
       "      <td>the Darkin Blade</td>\n",
       "      <td>2</td>\n",
       "      <td>Fighter</td>\n",
       "      <td>Tank</td>\n",
       "      <td>Blood Well</td>\n",
       "      <td>{'hp_base': 650, 'hp_lvl': 114, 'mp_base': 0, ...</td>\n",
       "      <td>Melee</td>\n",
       "      <td>...</td>\n",
       "      <td>4800</td>\n",
       "      <td>880</td>\n",
       "      <td>{1: 'Deathbringer Stance'}</td>\n",
       "      <td>{1: 'The Darkin Blade', 2: 'The Darkin Blade 3'}</td>\n",
       "      <td>{1: 'Infernal Chains'}</td>\n",
       "      <td>{1: 'Umbral Dash'}</td>\n",
       "      <td>{1: 'World Ender'}</td>\n",
       "      <td>{1: 'Deathbringer Stance', 2: 'The Darkin Blad...</td>\n",
       "      <td>NaN</td>\n",
       "      <td>NaN</td>\n",
       "    </tr>\n",
       "    <tr>\n",
       "      <th>1</th>\n",
       "      <td>Ahri</td>\n",
       "      <td>103.0</td>\n",
       "      <td>Ahri</td>\n",
       "      <td>the Nine-Tailed Fox</td>\n",
       "      <td>2</td>\n",
       "      <td>Mage</td>\n",
       "      <td>Assassin</td>\n",
       "      <td>Mana</td>\n",
       "      <td>{'hp_base': 590, 'hp_lvl': 104, 'mp_base': 418...</td>\n",
       "      <td>Ranged</td>\n",
       "      <td>...</td>\n",
       "      <td>3150</td>\n",
       "      <td>790</td>\n",
       "      <td>{1: 'Essence Theft'}</td>\n",
       "      <td>{1: 'Orb of Deception'}</td>\n",
       "      <td>{1: 'Fox-Fire'}</td>\n",
       "      <td>{1: 'Charm'}</td>\n",
       "      <td>{1: 'Spirit Rush'}</td>\n",
       "      <td>{1: 'Essence Theft', 2: 'Orb of Deception', 3:...</td>\n",
       "      <td>NaN</td>\n",
       "      <td>NaN</td>\n",
       "    </tr>\n",
       "    <tr>\n",
       "      <th>2</th>\n",
       "      <td>Akali</td>\n",
       "      <td>84.0</td>\n",
       "      <td>Akali</td>\n",
       "      <td>the Rogue Assassin</td>\n",
       "      <td>2</td>\n",
       "      <td>Assassin</td>\n",
       "      <td>NaN</td>\n",
       "      <td>Energy</td>\n",
       "      <td>{'hp_base': 600, 'hp_lvl': 119, 'mp_base': 200...</td>\n",
       "      <td>Melee</td>\n",
       "      <td>...</td>\n",
       "      <td>3150</td>\n",
       "      <td>790</td>\n",
       "      <td>{1: \"Assassin's Mark\"}</td>\n",
       "      <td>{1: 'Five Point Strike'}</td>\n",
       "      <td>{1: 'Twilight Shroud'}</td>\n",
       "      <td>{1: 'Shuriken Flip'}</td>\n",
       "      <td>{1: 'Perfect Execution'}</td>\n",
       "      <td>{1: \"Assassin's Mark\", 2: 'Five Point Strike',...</td>\n",
       "      <td>Akali Jhomen Tethi</td>\n",
       "      <td>NaN</td>\n",
       "    </tr>\n",
       "    <tr>\n",
       "      <th>3</th>\n",
       "      <td>Akshan</td>\n",
       "      <td>166.0</td>\n",
       "      <td>Akshan</td>\n",
       "      <td>the Rogue Sentinel</td>\n",
       "      <td>3</td>\n",
       "      <td>Marksman</td>\n",
       "      <td>Assassin</td>\n",
       "      <td>Mana</td>\n",
       "      <td>{'hp_base': 630, 'hp_lvl': 107, 'mp_base': 350...</td>\n",
       "      <td>Ranged</td>\n",
       "      <td>...</td>\n",
       "      <td>4800</td>\n",
       "      <td>880</td>\n",
       "      <td>{1: 'Dirty Fighting'}</td>\n",
       "      <td>{1: 'Avengerang'}</td>\n",
       "      <td>{1: 'Going Rogue'}</td>\n",
       "      <td>{1: 'Heroic Swing'}</td>\n",
       "      <td>{1: 'Comeuppance'}</td>\n",
       "      <td>{1: 'Dirty Fighting', 2: 'Avengerang', 3: 'Goi...</td>\n",
       "      <td>NaN</td>\n",
       "      <td>NaN</td>\n",
       "    </tr>\n",
       "    <tr>\n",
       "      <th>4</th>\n",
       "      <td>Alistar</td>\n",
       "      <td>12.0</td>\n",
       "      <td>Alistar</td>\n",
       "      <td>the Minotaur</td>\n",
       "      <td>1</td>\n",
       "      <td>Tank</td>\n",
       "      <td>Support</td>\n",
       "      <td>Mana</td>\n",
       "      <td>{'hp_base': 685, 'hp_lvl': 120, 'mp_base': 350...</td>\n",
       "      <td>Melee</td>\n",
       "      <td>...</td>\n",
       "      <td>1350</td>\n",
       "      <td>585</td>\n",
       "      <td>{1: 'Triumphant Roar'}</td>\n",
       "      <td>{1: 'Pulverize'}</td>\n",
       "      <td>{1: 'Headbutt'}</td>\n",
       "      <td>{1: 'Trample'}</td>\n",
       "      <td>{1: 'Unbreakable Will'}</td>\n",
       "      <td>{1: 'Triumphant Roar', 2: 'Pulverize', 3: 'Hea...</td>\n",
       "      <td>NaN</td>\n",
       "      <td>NaN</td>\n",
       "    </tr>\n",
       "  </tbody>\n",
       "</table>\n",
       "<p>5 rows × 33 columns</p>\n",
       "</div>"
      ],
      "text/plain": [
       "  Unnamed: 0     id  apiname                title  difficulty  herotype  \\\n",
       "0     Aatrox  266.0   Aatrox     the Darkin Blade           2   Fighter   \n",
       "1       Ahri  103.0     Ahri  the Nine-Tailed Fox           2      Mage   \n",
       "2      Akali   84.0    Akali   the Rogue Assassin           2  Assassin   \n",
       "3     Akshan  166.0   Akshan   the Rogue Sentinel           3  Marksman   \n",
       "4    Alistar   12.0  Alistar         the Minotaur           1      Tank   \n",
       "\n",
       "    alttype    resource                                              stats  \\\n",
       "0      Tank  Blood Well  {'hp_base': 650, 'hp_lvl': 114, 'mp_base': 0, ...   \n",
       "1  Assassin        Mana  {'hp_base': 590, 'hp_lvl': 104, 'mp_base': 418...   \n",
       "2       NaN      Energy  {'hp_base': 600, 'hp_lvl': 119, 'mp_base': 200...   \n",
       "3  Assassin        Mana  {'hp_base': 630, 'hp_lvl': 107, 'mp_base': 350...   \n",
       "4   Support        Mana  {'hp_base': 685, 'hp_lvl': 120, 'mp_base': 350...   \n",
       "\n",
       "  rangetype  ...    be   rp                     skill_i  \\\n",
       "0     Melee  ...  4800  880  {1: 'Deathbringer Stance'}   \n",
       "1    Ranged  ...  3150  790        {1: 'Essence Theft'}   \n",
       "2     Melee  ...  3150  790      {1: \"Assassin's Mark\"}   \n",
       "3    Ranged  ...  4800  880       {1: 'Dirty Fighting'}   \n",
       "4     Melee  ...  1350  585      {1: 'Triumphant Roar'}   \n",
       "\n",
       "                                            skill_q                 skill_w  \\\n",
       "0  {1: 'The Darkin Blade', 2: 'The Darkin Blade 3'}  {1: 'Infernal Chains'}   \n",
       "1                           {1: 'Orb of Deception'}         {1: 'Fox-Fire'}   \n",
       "2                          {1: 'Five Point Strike'}  {1: 'Twilight Shroud'}   \n",
       "3                                 {1: 'Avengerang'}      {1: 'Going Rogue'}   \n",
       "4                                  {1: 'Pulverize'}         {1: 'Headbutt'}   \n",
       "\n",
       "                skill_e                   skill_r  \\\n",
       "0    {1: 'Umbral Dash'}        {1: 'World Ender'}   \n",
       "1          {1: 'Charm'}        {1: 'Spirit Rush'}   \n",
       "2  {1: 'Shuriken Flip'}  {1: 'Perfect Execution'}   \n",
       "3   {1: 'Heroic Swing'}        {1: 'Comeuppance'}   \n",
       "4        {1: 'Trample'}   {1: 'Unbreakable Will'}   \n",
       "\n",
       "                                              skills            fullname  \\\n",
       "0  {1: 'Deathbringer Stance', 2: 'The Darkin Blad...                 NaN   \n",
       "1  {1: 'Essence Theft', 2: 'Orb of Deception', 3:...                 NaN   \n",
       "2  {1: \"Assassin's Mark\", 2: 'Five Point Strike',...  Akali Jhomen Tethi   \n",
       "3  {1: 'Dirty Fighting', 2: 'Avengerang', 3: 'Goi...                 NaN   \n",
       "4  {1: 'Triumphant Roar', 2: 'Pulverize', 3: 'Hea...                 NaN   \n",
       "\n",
       "   nickname  \n",
       "0       NaN  \n",
       "1       NaN  \n",
       "2       NaN  \n",
       "3       NaN  \n",
       "4       NaN  \n",
       "\n",
       "[5 rows x 33 columns]"
      ]
     },
     "execution_count": 3,
     "metadata": {},
     "output_type": "execute_result"
    }
   ],
   "source": [
    "df.head()"
   ]
  },
  {
   "cell_type": "code",
   "execution_count": 4,
   "metadata": {
    "execution": {
     "iopub.execute_input": "2025-07-29T03:43:00.986969Z",
     "iopub.status.busy": "2025-07-29T03:43:00.986547Z",
     "iopub.status.idle": "2025-07-29T03:43:00.996367Z",
     "shell.execute_reply": "2025-07-29T03:43:00.995268Z",
     "shell.execute_reply.started": "2025-07-29T03:43:00.986932Z"
    },
    "trusted": true
   },
   "outputs": [
    {
     "name": "stdout",
     "output_type": "stream",
     "text": [
      "There are 322 nulls in the dataframe.\n"
     ]
    }
   ],
   "source": [
    "total_nulls = df.isnull().sum().sum()\n",
    "print(f'There are {total_nulls} nulls in the dataframe.')"
   ]
  },
  {
   "cell_type": "code",
   "execution_count": 5,
   "metadata": {
    "execution": {
     "iopub.execute_input": "2025-07-29T03:43:00.997861Z",
     "iopub.status.busy": "2025-07-29T03:43:00.997525Z",
     "iopub.status.idle": "2025-07-29T03:43:01.021413Z",
     "shell.execute_reply": "2025-07-29T03:43:01.020319Z",
     "shell.execute_reply.started": "2025-07-29T03:43:00.997832Z"
    },
    "trusted": true
   },
   "outputs": [
    {
     "data": {
      "text/plain": [
       "Unnamed: 0             object\n",
       "id                    float64\n",
       "apiname                object\n",
       "title                  object\n",
       "difficulty              int64\n",
       "herotype               object\n",
       "alttype                object\n",
       "resource               object\n",
       "stats                  object\n",
       "rangetype              object\n",
       "date                   object\n",
       "patch                  object\n",
       "changes                object\n",
       "role                   object\n",
       "client_positions       object\n",
       "external_positions     object\n",
       "damage                  int64\n",
       "toughness               int64\n",
       "control                 int64\n",
       "mobility                int64\n",
       "utility                 int64\n",
       "style                   int64\n",
       "adaptivetype           object\n",
       "be                      int64\n",
       "rp                      int64\n",
       "skill_i                object\n",
       "skill_q                object\n",
       "skill_w                object\n",
       "skill_e                object\n",
       "skill_r                object\n",
       "skills                 object\n",
       "fullname               object\n",
       "nickname               object\n",
       "dtype: object"
      ]
     },
     "execution_count": 5,
     "metadata": {},
     "output_type": "execute_result"
    }
   ],
   "source": [
    "df.dtypes"
   ]
  },
  {
   "cell_type": "markdown",
   "metadata": {},
   "source": [
    "In summary, the dataframe contains:\n",
    "* 172 rows and 33 columns\n",
    "* 322 nulls\n",
    "* types: `object`, `float64`, `int64`\n",
    "\n",
    "Based on the Data Card in Kaggle, the columns that are of interest are: `apiname`, `difficulty`, `herotype`,  `alttype`, `role`, `toughness`, `control`, `mobility`, `utility`, and `style`.\n",
    "\n",
    "**Note:** Not all of these columns will be used when building out the heatmap. Instead they will serve as a reference for the categorical and numerical variables."
   ]
  },
  {
   "cell_type": "markdown",
   "metadata": {},
   "source": [
    "## Summary of Columns\n",
    "----\n",
    "\n",
    "* `apiname`: Champion's name within Riot's API\n",
    "* `difficulty`: Champion's difficulty rating from 0 to 3\n",
    "* `herotype`: Champion's archaic primary role\n",
    "* `alltype`: Champion's archaic secondary role\n",
    "* `role`: Champion's classes\n",
    "* `toughness`: Champion's toughness rating from 1 to 3\n",
    "* `control`: Champion's control rating from 1 to 3\n",
    "* `mobility`: Champion's mobility rating from 1 to 3\n",
    "* `utility`: Champion's utility rating from 1 to 3\n",
    "* `style`: Champion's damage style (0 = attacker only; 100 = caster only)"
   ]
  },
  {
   "cell_type": "markdown",
   "metadata": {},
   "source": [
    "## Creating the Heatmaps\n",
    "----"
   ]
  },
  {
   "cell_type": "code",
   "execution_count": 6,
   "metadata": {
    "execution": {
     "iopub.execute_input": "2025-07-29T03:43:01.022912Z",
     "iopub.status.busy": "2025-07-29T03:43:01.022505Z",
     "iopub.status.idle": "2025-07-29T03:43:01.257701Z",
     "shell.execute_reply": "2025-07-29T03:43:01.256551Z",
     "shell.execute_reply.started": "2025-07-29T03:43:01.022878Z"
    },
    "trusted": true
   },
   "outputs": [
    {
     "data": {
      "text/html": [
       "<html>\n",
       "<head><meta charset=\"utf-8\" /></head>\n",
       "<body>\n",
       "    <div>            <script src=\"https://cdnjs.cloudflare.com/ajax/libs/mathjax/2.7.5/MathJax.js?config=TeX-AMS-MML_SVG\"></script><script type=\"text/javascript\">if (window.MathJax && window.MathJax.Hub && window.MathJax.Hub.Config) {window.MathJax.Hub.Config({SVG: {font: \"STIX-Web\"}});}</script>                <script type=\"text/javascript\">window.PlotlyConfig = {MathJaxConfig: 'local'};</script>\n",
       "        <script charset=\"utf-8\" src=\"https://cdn.plot.ly/plotly-2.35.2.min.js\"></script>                <div id=\"ba467e8e-af31-4b04-9a44-0286aec8a059\" class=\"plotly-graph-div\" style=\"height:600px; width:800px;\"></div>            <script type=\"text/javascript\">                                    window.PLOTLYENV=window.PLOTLYENV || {};                                    if (document.getElementById(\"ba467e8e-af31-4b04-9a44-0286aec8a059\")) {                    Plotly.newPlot(                        \"ba467e8e-af31-4b04-9a44-0286aec8a059\",                        [{\"colorbar\":{\"title\":{\"text\":\"Number of Champions\"}},\"colorscale\":[[0.0,\"rgb(255,255,204)\"],[0.125,\"rgb(255,237,160)\"],[0.25,\"rgb(254,217,118)\"],[0.375,\"rgb(254,178,76)\"],[0.5,\"rgb(253,141,60)\"],[0.625,\"rgb(252,78,42)\"],[0.75,\"rgb(227,26,28)\"],[0.875,\"rgb(189,0,38)\"],[1.0,\"rgb(128,0,38)\"]],\"customdata\":[[\"Hero Type: Assassin\\u003cbr\\u003eDifficulty: 1\\u003cbr\\u003eCount: 2\\u003cbr\\u003eChampions:\\u003cbr\\u003eMasterYi\\u003cbr\\u003eNaafiri\",\"Hero Type: Assassin\\u003cbr\\u003eDifficulty: 2\\u003cbr\\u003eCount: 12\\u003cbr\\u003eChampions:\\u003cbr\\u003eAkali\\u003cbr\\u003eElise\\u003cbr\\u003eEvelynn\\u003cbr\\u003eFizz\\u003cbr\\u003eKassadin\\u003cbr\\u003eKatarina\\u003cbr\\u003eKhazix\\u003cbr\\u003eLeblanc\\u003cbr\\u003eNidalee\\u003cbr\\u003eRengar\\u003cbr\\u003eShaco\\u003cbr\\u003eTalon\",\"Hero Type: Assassin\\u003cbr\\u003eDifficulty: 3\\u003cbr\\u003eCount: 3\\u003cbr\\u003eChampions:\\u003cbr\\u003eEkko\\u003cbr\\u003eQiyana\\u003cbr\\u003eZed\"],[\"Hero Type: Fighter\\u003cbr\\u003eDifficulty: 1\\u003cbr\\u003eCount: 18\\u003cbr\\u003eChampions:\\u003cbr\\u003eDiana\\u003cbr\\u003eGaren\\u003cbr\\u003eJarvanIV\\u003cbr\\u003eJax\\u003cbr\\u003eNasus\\u003cbr\\u003eNocturne\\u003cbr\\u003eOlaf\\u003cbr\\u003ePantheon\\u003cbr\\u003eRenekton\\u003cbr\\u003eShyvana\\u003cbr\\u003eTrundle\\u003cbr\\u003eTryndamere\\u003cbr\\u003eUdyr\\u003cbr\\u003eVi\\u003cbr\\u003eVolibear\\u003cbr\\u003eWarwick\\u003cbr\\u003eMonkeyKing\\u003cbr\\u003eXinZhao\",\"Hero Type: Fighter\\u003cbr\\u003eDifficulty: 2\\u003cbr\\u003eCount: 22\\u003cbr\\u003eChampions:\\u003cbr\\u003eAatrox\\u003cbr\\u003eBelveth\\u003cbr\\u003eBriar\\u003cbr\\u003eDarius\\u003cbr\\u003eFiora\\u003cbr\\u003eGnarBig\\u003cbr\\u003eGragas\\u003cbr\\u003eGwen\\u003cbr\\u003eHecarim\\u003cbr\\u003eIllaoi\\u003cbr\\u003eIrelia\\u003cbr\\u003eKayn\\u003cbr\\u003eKled\\u003cbr\\u003eKled\\u003cbr\\u003eLeeSin\\u003cbr\\u003eMordekaiser\\u003cbr\\u003eRekSai\\u003cbr\\u003eRiven\\u003cbr\\u003eRumble\\u003cbr\\u003eSett\\u003cbr\\u003eUrgot\\u003cbr\\u003eYorick\",\"Hero Type: Fighter\\u003cbr\\u003eDifficulty: 3\\u003cbr\\u003eCount: 9\\u003cbr\\u003eChampions:\\u003cbr\\u003eAmbessa\\u003cbr\\u003eCamille\\u003cbr\\u003eGangplank\\u003cbr\\u003eGnar\\u003cbr\\u003eLillia\\u003cbr\\u003eNilah\\u003cbr\\u003eViego\\u003cbr\\u003eYasuo\\u003cbr\\u003eYone\"],[\"Hero Type: Mage\\u003cbr\\u003eDifficulty: 1\\u003cbr\\u003eCount: 6\\u003cbr\\u003eChampions:\\u003cbr\\u003eAnnie\\u003cbr\\u003eKarma\\u003cbr\\u003eLux\\u003cbr\\u003eMalzahar\\u003cbr\\u003eMorgana\\u003cbr\\u003eNeeko\",\"Hero Type: Mage\\u003cbr\\u003eDifficulty: 2\\u003cbr\\u003eCount: 23\\u003cbr\\u003eChampions:\\u003cbr\\u003eAhri\\u003cbr\\u003eAurora\\u003cbr\\u003eBrand\\u003cbr\\u003eFiddlesticks\\u003cbr\\u003eHeimerdinger\\u003cbr\\u003eKarthus\\u003cbr\\u003eKayle\\u003cbr\\u003eKennen\\u003cbr\\u003eLissandra\\u003cbr\\u003eMel\\u003cbr\\u003eOrianna\\u003cbr\\u003eRyze\\u003cbr\\u003eSwain\\u003cbr\\u003eSyndra\\u003cbr\\u003eTaliyah\\u003cbr\\u003eTwistedFate\\u003cbr\\u003eVeigar\\u003cbr\\u003eVelkoz\\u003cbr\\u003eVex\\u003cbr\\u003eVladimir\\u003cbr\\u003eXerath\\u003cbr\\u003eZiggs\\u003cbr\\u003eZyra\",\"Hero Type: Mage\\u003cbr\\u003eDifficulty: 3\\u003cbr\\u003eCount: 8\\u003cbr\\u003eChampions:\\u003cbr\\u003eAnivia\\u003cbr\\u003eAurelionSol\\u003cbr\\u003eAzir\\u003cbr\\u003eCassiopeia\\u003cbr\\u003eHwei\\u003cbr\\u003eSylas\\u003cbr\\u003eViktor\\u003cbr\\u003eZoe\"],[\"Hero Type: Marksman\\u003cbr\\u003eDifficulty: 1\\u003cbr\\u003eCount: 6\\u003cbr\\u003eChampions:\\u003cbr\\u003eAshe\\u003cbr\\u003eCaitlyn\\u003cbr\\u003eEzreal\\u003cbr\\u003eMissFortune\\u003cbr\\u003eTeemo\\u003cbr\\u003eTristana\",\"Hero Type: Marksman\\u003cbr\\u003eDifficulty: 2\\u003cbr\\u003eCount: 18\\u003cbr\\u003eChampions:\\u003cbr\\u003eCorki\\u003cbr\\u003eDraven\\u003cbr\\u003eGraves\\u003cbr\\u003eJayce\\u003cbr\\u003eJhin\\u003cbr\\u003eJinx\\u003cbr\\u003eKaisa\\u003cbr\\u003eKogMaw\\u003cbr\\u003eLucian\\u003cbr\\u003eQuinn\\u003cbr\\u003eSamira\\u003cbr\\u003eSivir\\u003cbr\\u003eSmolder\\u003cbr\\u003eTwitch\\u003cbr\\u003eVarus\\u003cbr\\u003eVayne\\u003cbr\\u003eXayah\\u003cbr\\u003eZeri\",\"Hero Type: Marksman\\u003cbr\\u003eDifficulty: 3\\u003cbr\\u003eCount: 4\\u003cbr\\u003eChampions:\\u003cbr\\u003eAkshan\\u003cbr\\u003eAphelios\\u003cbr\\u003eKalista\\u003cbr\\u003eKindred\"],[\"Hero Type: Support\\u003cbr\\u003eDifficulty: 1\\u003cbr\\u003eCount: 6\\u003cbr\\u003eChampions:\\u003cbr\\u003eJanna\\u003cbr\\u003eMilio\\u003cbr\\u003eSeraphine\\u003cbr\\u003eSona\\u003cbr\\u003eSoraka\\u003cbr\\u003eYuumi\",\"Hero Type: Support\\u003cbr\\u003eDifficulty: 2\\u003cbr\\u003eCount: 8\\u003cbr\\u003eChampions:\\u003cbr\\u003eLulu\\u003cbr\\u003eNami\\u003cbr\\u003ePyke\\u003cbr\\u003eRakan\\u003cbr\\u003eRenata\\u003cbr\\u003eSenna\\u003cbr\\u003eTaric\\u003cbr\\u003eZilean\",\"Hero Type: Support\\u003cbr\\u003eDifficulty: 3\\u003cbr\\u003eCount: 3\\u003cbr\\u003eChampions:\\u003cbr\\u003eBard\\u003cbr\\u003eIvern\\u003cbr\\u003eThresh\"],[\"Hero Type: Tank\\u003cbr\\u003eDifficulty: 1\\u003cbr\\u003eCount: 13\\u003cbr\\u003eChampions:\\u003cbr\\u003eAlistar\\u003cbr\\u003eAmumu\\u003cbr\\u003eBlitzcrank\\u003cbr\\u003eChogath\\u003cbr\\u003eDrMundo\\u003cbr\\u003eLeona\\u003cbr\\u003eMalphite\\u003cbr\\u003eMaokai\\u003cbr\\u003eNunu\\u003cbr\\u003eRammus\\u003cbr\\u003eSion\\u003cbr\\u003eTahmKench\\u003cbr\\u003eZac\",\"Hero Type: Tank\\u003cbr\\u003eDifficulty: 2\\u003cbr\\u003eCount: 10\\u003cbr\\u003eChampions:\\u003cbr\\u003eBraum\\u003cbr\\u003eGalio\\u003cbr\\u003eNautilus\\u003cbr\\u003eOrnn\\u003cbr\\u003ePoppy\\u003cbr\\u003eRell\\u003cbr\\u003eSejuani\\u003cbr\\u003eShen\\u003cbr\\u003eSinged\\u003cbr\\u003eSkarner\",\"Hero Type: Tank\\u003cbr\\u003eDifficulty: 3\\u003cbr\\u003eCount: 1\\u003cbr\\u003eChampions:\\u003cbr\\u003eKSante\"]],\"hovertemplate\":\"%{customdata}\\u003cextra\\u003e\\u003c\\u002fextra\\u003e\",\"text\":[[2,12,3],[18,22,9],[6,23,8],[6,18,4],[6,8,3],[13,10,1]],\"textfont\":{\"size\":12},\"texttemplate\":\"%{text}\",\"x\":[1,2,3],\"y\":[\"Assassin\",\"Fighter\",\"Mage\",\"Marksman\",\"Support\",\"Tank\"],\"z\":[[2,12,3],[18,22,9],[6,23,8],[6,18,4],[6,8,3],[13,10,1]],\"type\":\"heatmap\"}],                        {\"template\":{\"data\":{\"histogram2dcontour\":[{\"type\":\"histogram2dcontour\",\"colorbar\":{\"outlinewidth\":0,\"ticks\":\"\"},\"colorscale\":[[0.0,\"#0d0887\"],[0.1111111111111111,\"#46039f\"],[0.2222222222222222,\"#7201a8\"],[0.3333333333333333,\"#9c179e\"],[0.4444444444444444,\"#bd3786\"],[0.5555555555555556,\"#d8576b\"],[0.6666666666666666,\"#ed7953\"],[0.7777777777777778,\"#fb9f3a\"],[0.8888888888888888,\"#fdca26\"],[1.0,\"#f0f921\"]]}],\"choropleth\":[{\"type\":\"choropleth\",\"colorbar\":{\"outlinewidth\":0,\"ticks\":\"\"}}],\"histogram2d\":[{\"type\":\"histogram2d\",\"colorbar\":{\"outlinewidth\":0,\"ticks\":\"\"},\"colorscale\":[[0.0,\"#0d0887\"],[0.1111111111111111,\"#46039f\"],[0.2222222222222222,\"#7201a8\"],[0.3333333333333333,\"#9c179e\"],[0.4444444444444444,\"#bd3786\"],[0.5555555555555556,\"#d8576b\"],[0.6666666666666666,\"#ed7953\"],[0.7777777777777778,\"#fb9f3a\"],[0.8888888888888888,\"#fdca26\"],[1.0,\"#f0f921\"]]}],\"heatmap\":[{\"type\":\"heatmap\",\"colorbar\":{\"outlinewidth\":0,\"ticks\":\"\"},\"colorscale\":[[0.0,\"#0d0887\"],[0.1111111111111111,\"#46039f\"],[0.2222222222222222,\"#7201a8\"],[0.3333333333333333,\"#9c179e\"],[0.4444444444444444,\"#bd3786\"],[0.5555555555555556,\"#d8576b\"],[0.6666666666666666,\"#ed7953\"],[0.7777777777777778,\"#fb9f3a\"],[0.8888888888888888,\"#fdca26\"],[1.0,\"#f0f921\"]]}],\"heatmapgl\":[{\"type\":\"heatmapgl\",\"colorbar\":{\"outlinewidth\":0,\"ticks\":\"\"},\"colorscale\":[[0.0,\"#0d0887\"],[0.1111111111111111,\"#46039f\"],[0.2222222222222222,\"#7201a8\"],[0.3333333333333333,\"#9c179e\"],[0.4444444444444444,\"#bd3786\"],[0.5555555555555556,\"#d8576b\"],[0.6666666666666666,\"#ed7953\"],[0.7777777777777778,\"#fb9f3a\"],[0.8888888888888888,\"#fdca26\"],[1.0,\"#f0f921\"]]}],\"contourcarpet\":[{\"type\":\"contourcarpet\",\"colorbar\":{\"outlinewidth\":0,\"ticks\":\"\"}}],\"contour\":[{\"type\":\"contour\",\"colorbar\":{\"outlinewidth\":0,\"ticks\":\"\"},\"colorscale\":[[0.0,\"#0d0887\"],[0.1111111111111111,\"#46039f\"],[0.2222222222222222,\"#7201a8\"],[0.3333333333333333,\"#9c179e\"],[0.4444444444444444,\"#bd3786\"],[0.5555555555555556,\"#d8576b\"],[0.6666666666666666,\"#ed7953\"],[0.7777777777777778,\"#fb9f3a\"],[0.8888888888888888,\"#fdca26\"],[1.0,\"#f0f921\"]]}],\"surface\":[{\"type\":\"surface\",\"colorbar\":{\"outlinewidth\":0,\"ticks\":\"\"},\"colorscale\":[[0.0,\"#0d0887\"],[0.1111111111111111,\"#46039f\"],[0.2222222222222222,\"#7201a8\"],[0.3333333333333333,\"#9c179e\"],[0.4444444444444444,\"#bd3786\"],[0.5555555555555556,\"#d8576b\"],[0.6666666666666666,\"#ed7953\"],[0.7777777777777778,\"#fb9f3a\"],[0.8888888888888888,\"#fdca26\"],[1.0,\"#f0f921\"]]}],\"mesh3d\":[{\"type\":\"mesh3d\",\"colorbar\":{\"outlinewidth\":0,\"ticks\":\"\"}}],\"scatter\":[{\"fillpattern\":{\"fillmode\":\"overlay\",\"size\":10,\"solidity\":0.2},\"type\":\"scatter\"}],\"parcoords\":[{\"type\":\"parcoords\",\"line\":{\"colorbar\":{\"outlinewidth\":0,\"ticks\":\"\"}}}],\"scatterpolargl\":[{\"type\":\"scatterpolargl\",\"marker\":{\"colorbar\":{\"outlinewidth\":0,\"ticks\":\"\"}}}],\"bar\":[{\"error_x\":{\"color\":\"#2a3f5f\"},\"error_y\":{\"color\":\"#2a3f5f\"},\"marker\":{\"line\":{\"color\":\"#E5ECF6\",\"width\":0.5},\"pattern\":{\"fillmode\":\"overlay\",\"size\":10,\"solidity\":0.2}},\"type\":\"bar\"}],\"scattergeo\":[{\"type\":\"scattergeo\",\"marker\":{\"colorbar\":{\"outlinewidth\":0,\"ticks\":\"\"}}}],\"scatterpolar\":[{\"type\":\"scatterpolar\",\"marker\":{\"colorbar\":{\"outlinewidth\":0,\"ticks\":\"\"}}}],\"histogram\":[{\"marker\":{\"pattern\":{\"fillmode\":\"overlay\",\"size\":10,\"solidity\":0.2}},\"type\":\"histogram\"}],\"scattergl\":[{\"type\":\"scattergl\",\"marker\":{\"colorbar\":{\"outlinewidth\":0,\"ticks\":\"\"}}}],\"scatter3d\":[{\"type\":\"scatter3d\",\"line\":{\"colorbar\":{\"outlinewidth\":0,\"ticks\":\"\"}},\"marker\":{\"colorbar\":{\"outlinewidth\":0,\"ticks\":\"\"}}}],\"scattermapbox\":[{\"type\":\"scattermapbox\",\"marker\":{\"colorbar\":{\"outlinewidth\":0,\"ticks\":\"\"}}}],\"scatterternary\":[{\"type\":\"scatterternary\",\"marker\":{\"colorbar\":{\"outlinewidth\":0,\"ticks\":\"\"}}}],\"scattercarpet\":[{\"type\":\"scattercarpet\",\"marker\":{\"colorbar\":{\"outlinewidth\":0,\"ticks\":\"\"}}}],\"carpet\":[{\"aaxis\":{\"endlinecolor\":\"#2a3f5f\",\"gridcolor\":\"white\",\"linecolor\":\"white\",\"minorgridcolor\":\"white\",\"startlinecolor\":\"#2a3f5f\"},\"baxis\":{\"endlinecolor\":\"#2a3f5f\",\"gridcolor\":\"white\",\"linecolor\":\"white\",\"minorgridcolor\":\"white\",\"startlinecolor\":\"#2a3f5f\"},\"type\":\"carpet\"}],\"table\":[{\"cells\":{\"fill\":{\"color\":\"#EBF0F8\"},\"line\":{\"color\":\"white\"}},\"header\":{\"fill\":{\"color\":\"#C8D4E3\"},\"line\":{\"color\":\"white\"}},\"type\":\"table\"}],\"barpolar\":[{\"marker\":{\"line\":{\"color\":\"#E5ECF6\",\"width\":0.5},\"pattern\":{\"fillmode\":\"overlay\",\"size\":10,\"solidity\":0.2}},\"type\":\"barpolar\"}],\"pie\":[{\"automargin\":true,\"type\":\"pie\"}]},\"layout\":{\"autotypenumbers\":\"strict\",\"colorway\":[\"#636efa\",\"#EF553B\",\"#00cc96\",\"#ab63fa\",\"#FFA15A\",\"#19d3f3\",\"#FF6692\",\"#B6E880\",\"#FF97FF\",\"#FECB52\"],\"font\":{\"color\":\"#2a3f5f\"},\"hovermode\":\"closest\",\"hoverlabel\":{\"align\":\"left\"},\"paper_bgcolor\":\"white\",\"plot_bgcolor\":\"#E5ECF6\",\"polar\":{\"bgcolor\":\"#E5ECF6\",\"angularaxis\":{\"gridcolor\":\"white\",\"linecolor\":\"white\",\"ticks\":\"\"},\"radialaxis\":{\"gridcolor\":\"white\",\"linecolor\":\"white\",\"ticks\":\"\"}},\"ternary\":{\"bgcolor\":\"#E5ECF6\",\"aaxis\":{\"gridcolor\":\"white\",\"linecolor\":\"white\",\"ticks\":\"\"},\"baxis\":{\"gridcolor\":\"white\",\"linecolor\":\"white\",\"ticks\":\"\"},\"caxis\":{\"gridcolor\":\"white\",\"linecolor\":\"white\",\"ticks\":\"\"}},\"coloraxis\":{\"colorbar\":{\"outlinewidth\":0,\"ticks\":\"\"}},\"colorscale\":{\"sequential\":[[0.0,\"#0d0887\"],[0.1111111111111111,\"#46039f\"],[0.2222222222222222,\"#7201a8\"],[0.3333333333333333,\"#9c179e\"],[0.4444444444444444,\"#bd3786\"],[0.5555555555555556,\"#d8576b\"],[0.6666666666666666,\"#ed7953\"],[0.7777777777777778,\"#fb9f3a\"],[0.8888888888888888,\"#fdca26\"],[1.0,\"#f0f921\"]],\"sequentialminus\":[[0.0,\"#0d0887\"],[0.1111111111111111,\"#46039f\"],[0.2222222222222222,\"#7201a8\"],[0.3333333333333333,\"#9c179e\"],[0.4444444444444444,\"#bd3786\"],[0.5555555555555556,\"#d8576b\"],[0.6666666666666666,\"#ed7953\"],[0.7777777777777778,\"#fb9f3a\"],[0.8888888888888888,\"#fdca26\"],[1.0,\"#f0f921\"]],\"diverging\":[[0,\"#8e0152\"],[0.1,\"#c51b7d\"],[0.2,\"#de77ae\"],[0.3,\"#f1b6da\"],[0.4,\"#fde0ef\"],[0.5,\"#f7f7f7\"],[0.6,\"#e6f5d0\"],[0.7,\"#b8e186\"],[0.8,\"#7fbc41\"],[0.9,\"#4d9221\"],[1,\"#276419\"]]},\"xaxis\":{\"gridcolor\":\"white\",\"linecolor\":\"white\",\"ticks\":\"\",\"title\":{\"standoff\":15},\"zerolinecolor\":\"white\",\"automargin\":true,\"zerolinewidth\":2},\"yaxis\":{\"gridcolor\":\"white\",\"linecolor\":\"white\",\"ticks\":\"\",\"title\":{\"standoff\":15},\"zerolinecolor\":\"white\",\"automargin\":true,\"zerolinewidth\":2},\"scene\":{\"xaxis\":{\"backgroundcolor\":\"#E5ECF6\",\"gridcolor\":\"white\",\"linecolor\":\"white\",\"showbackground\":true,\"ticks\":\"\",\"zerolinecolor\":\"white\",\"gridwidth\":2},\"yaxis\":{\"backgroundcolor\":\"#E5ECF6\",\"gridcolor\":\"white\",\"linecolor\":\"white\",\"showbackground\":true,\"ticks\":\"\",\"zerolinecolor\":\"white\",\"gridwidth\":2},\"zaxis\":{\"backgroundcolor\":\"#E5ECF6\",\"gridcolor\":\"white\",\"linecolor\":\"white\",\"showbackground\":true,\"ticks\":\"\",\"zerolinecolor\":\"white\",\"gridwidth\":2}},\"shapedefaults\":{\"line\":{\"color\":\"#2a3f5f\"}},\"annotationdefaults\":{\"arrowcolor\":\"#2a3f5f\",\"arrowhead\":0,\"arrowwidth\":1},\"geo\":{\"bgcolor\":\"white\",\"landcolor\":\"#E5ECF6\",\"subunitcolor\":\"white\",\"showland\":true,\"showlakes\":true,\"lakecolor\":\"white\"},\"title\":{\"x\":0.05},\"mapbox\":{\"style\":\"light\"}}},\"title\":{\"text\":\"Champion Count by Hero Type and Difficulty Level\\u003cbr\\u003e\\u003csub\\u003eHover for champion details\\u003c\\u002fsub\\u003e\"},\"xaxis\":{\"title\":{\"text\":\"Difficulty Level\"}},\"yaxis\":{\"title\":{\"text\":\"Hero Type\"}},\"width\":800,\"height\":600},                        {\"responsive\": true}                    ).then(function(){\n",
       "                            \n",
       "var gd = document.getElementById('ba467e8e-af31-4b04-9a44-0286aec8a059');\n",
       "var x = new MutationObserver(function (mutations, observer) {{\n",
       "        var display = window.getComputedStyle(gd).display;\n",
       "        if (!display || display === 'none') {{\n",
       "            console.log([gd, 'removed!']);\n",
       "            Plotly.purge(gd);\n",
       "            observer.disconnect();\n",
       "        }}\n",
       "}});\n",
       "\n",
       "// Listen for the removal of the full notebook cells\n",
       "var notebookContainer = gd.closest('#notebook-container');\n",
       "if (notebookContainer) {{\n",
       "    x.observe(notebookContainer, {childList: true});\n",
       "}}\n",
       "\n",
       "// Listen for the clearing of the current output cell\n",
       "var outputEl = gd.closest('.output');\n",
       "if (outputEl) {{\n",
       "    x.observe(outputEl, {childList: true});\n",
       "}}\n",
       "\n",
       "                        })                };                            </script>        </div>\n",
       "</body>\n",
       "</html>"
      ]
     },
     "metadata": {},
     "output_type": "display_data"
    }
   ],
   "source": [
    "# creating style categoories by binning the style score thresholds\n",
    "df['style_category'] = pd.cut(df['style'], \n",
    "                             bins=[0, 25, 50, 75, 100], \n",
    "                             labels=['Attacker-Heavy', 'Attacker-Leaning', 'Balanced', 'Caster-Leaning'],\n",
    "                             include_lowest=True)\n",
    "\n",
    "# Champion Count by Hero Type and Difficulty Level\n",
    "heatmap_data1 = df.groupby(['herotype', 'difficulty']).size().unstack(fill_value=0)\n",
    "\n",
    "# hover text\n",
    "hover_text = []\n",
    "for herotype in heatmap_data1.index:\n",
    "    hover_row = []\n",
    "    for difficulty in heatmap_data1.columns:\n",
    "        champions = df[(df['herotype'] == herotype) & (df['difficulty'] == difficulty)]['apiname'].tolist()\n",
    "        champion_list = '<br>'.join(champions) if champions else 'No champions'\n",
    "        hover_row.append(f\"Hero Type: {herotype}<br>Difficulty: {difficulty}<br>Count: {heatmap_data1.loc[herotype, difficulty]}<br>Champions:<br>{champion_list}\")\n",
    "    hover_text.append(hover_row)\n",
    "\n",
    "fig1 = go.Figure(data=go.Heatmap(\n",
    "    z=heatmap_data1.values,\n",
    "    x=heatmap_data1.columns,\n",
    "    y=heatmap_data1.index,\n",
    "    colorscale='YlOrRd',\n",
    "    text=heatmap_data1.values,\n",
    "    texttemplate=\"%{text}\",\n",
    "    textfont={\"size\": 12},\n",
    "    hovertemplate='%{customdata}<extra></extra>',\n",
    "    customdata=hover_text,\n",
    "    colorbar=dict(title=\"Number of Champions\")\n",
    "))\n",
    "\n",
    "fig1.update_layout(\n",
    "    title=\"Champion Count by Hero Type and Difficulty Level<br><sub>Hover for champion details</sub>\",\n",
    "    xaxis_title=\"Difficulty Level\",\n",
    "    yaxis_title=\"Hero Type\",\n",
    "    width=800,\n",
    "    height=600\n",
    ")\n",
    "\n",
    "fig1.show()"
   ]
  },
  {
   "cell_type": "code",
   "execution_count": 7,
   "metadata": {
    "execution": {
     "iopub.execute_input": "2025-07-29T03:43:01.259332Z",
     "iopub.status.busy": "2025-07-29T03:43:01.258931Z",
     "iopub.status.idle": "2025-07-29T03:43:01.340059Z",
     "shell.execute_reply": "2025-07-29T03:43:01.338932Z",
     "shell.execute_reply.started": "2025-07-29T03:43:01.259298Z"
    },
    "trusted": true
   },
   "outputs": [
    {
     "data": {
      "text/html": [
       "<html>\n",
       "<head><meta charset=\"utf-8\" /></head>\n",
       "<body>\n",
       "    <div>            <script src=\"https://cdnjs.cloudflare.com/ajax/libs/mathjax/2.7.5/MathJax.js?config=TeX-AMS-MML_SVG\"></script><script type=\"text/javascript\">if (window.MathJax && window.MathJax.Hub && window.MathJax.Hub.Config) {window.MathJax.Hub.Config({SVG: {font: \"STIX-Web\"}});}</script>                <script type=\"text/javascript\">window.PlotlyConfig = {MathJaxConfig: 'local'};</script>\n",
       "        <script charset=\"utf-8\" src=\"https://cdn.plot.ly/plotly-2.35.2.min.js\"></script>                <div id=\"2658d155-f5be-409b-8c88-b55de72eed3a\" class=\"plotly-graph-div\" style=\"height:600px; width:800px;\"></div>            <script type=\"text/javascript\">                                    window.PLOTLYENV=window.PLOTLYENV || {};                                    if (document.getElementById(\"2658d155-f5be-409b-8c88-b55de72eed3a\")) {                    Plotly.newPlot(                        \"2658d155-f5be-409b-8c88-b55de72eed3a\",                        [{\"colorbar\":{\"title\":{\"text\":\"Average Style Score\\u003cbr\\u003e(0=Attacker, 100=Caster)\"}},\"colorscale\":[[0.0,\"rgb(5,48,97)\"],[0.1,\"rgb(33,102,172)\"],[0.2,\"rgb(67,147,195)\"],[0.3,\"rgb(146,197,222)\"],[0.4,\"rgb(209,229,240)\"],[0.5,\"rgb(247,247,247)\"],[0.6,\"rgb(253,219,199)\"],[0.7,\"rgb(244,165,130)\"],[0.8,\"rgb(214,96,77)\"],[0.9,\"rgb(178,24,43)\"],[1.0,\"rgb(103,0,31)\"]],\"customdata\":[[\"Hero Type: Assassin\\u003cbr\\u003eDifficulty: 1\\u003cbr\\u003eAvg Style: 40.0\\u003cbr\\u003eChampions & Style Scores:\\u003cbr\\u003eMasterYi: 10\\u003cbr\\u003eNaafiri: 70\",\"Hero Type: Assassin\\u003cbr\\u003eDifficulty: 2\\u003cbr\\u003eAvg Style: 71.2\\u003cbr\\u003eChampions & Style Scores:\\u003cbr\\u003eAkali: 65\\u003cbr\\u003eElise: 65\\u003cbr\\u003eEvelynn: 75\\u003cbr\\u003eFizz: 90\\u003cbr\\u003eKassadin: 90\\u003cbr\\u003eKatarina: 100\\u003cbr\\u003eKhazix: 55\\u003cbr\\u003eLeblanc: 100\\u003cbr\\u003eNidalee: 75\\u003cbr\\u003eRengar: 30\\u003cbr\\u003eShaco: 45\\u003cbr\\u003eTalon: 65\",\"Hero Type: Assassin\\u003cbr\\u003eDifficulty: 3\\u003cbr\\u003eAvg Style: 66.7\\u003cbr\\u003eChampions & Style Scores:\\u003cbr\\u003eEkko: 75\\u003cbr\\u003eQiyana: 70\\u003cbr\\u003eZed: 55\"],[\"Hero Type: Fighter\\u003cbr\\u003eDifficulty: 1\\u003cbr\\u003eAvg Style: 40.6\\u003cbr\\u003eChampions & Style Scores:\\u003cbr\\u003eDiana: 65\\u003cbr\\u003eGaren: 75\\u003cbr\\u003eJarvanIV: 55\\u003cbr\\u003eJax: 10\\u003cbr\\u003eNasus: 20\\u003cbr\\u003eNocturne: 30\\u003cbr\\u003eOlaf: 30\\u003cbr\\u003ePantheon: 75\\u003cbr\\u003eRenekton: 45\\u003cbr\\u003eShyvana: 55\\u003cbr\\u003eTrundle: 20\\u003cbr\\u003eTryndamere: 10\\u003cbr\\u003eUdyr: 35\\u003cbr\\u003eVi: 55\\u003cbr\\u003eVolibear: 30\\u003cbr\\u003eWarwick: 30\\u003cbr\\u003eMonkeyKing: 55\\u003cbr\\u003eXinZhao: 35\",\"Hero Type: Fighter\\u003cbr\\u003eDifficulty: 2\\u003cbr\\u003eAvg Style: 45.9\\u003cbr\\u003eChampions & Style Scores:\\u003cbr\\u003eAatrox: 20\\u003cbr\\u003eBelveth: 0\\u003cbr\\u003eBriar: 10\\u003cbr\\u003eDarius: 55\\u003cbr\\u003eFiora: 20\\u003cbr\\u003eGnarBig: 65\\u003cbr\\u003eGragas: 90\\u003cbr\\u003eGwen: 50\\u003cbr\\u003eHecarim: 65\\u003cbr\\u003eIllaoi: 65\\u003cbr\\u003eIrelia: 30\\u003cbr\\u003eKayn: 0\\u003cbr\\u003eKled: 30\\u003cbr\\u003eKled: 30\\u003cbr\\u003eLeeSin: 55\\u003cbr\\u003eMordekaiser: 80\\u003cbr\\u003eRekSai: 30\\u003cbr\\u003eRiven: 75\\u003cbr\\u003eRumble: 90\\u003cbr\\u003eSett: 40\\u003cbr\\u003eUrgot: 55\\u003cbr\\u003eYorick: 55\",\"Hero Type: Fighter\\u003cbr\\u003eDifficulty: 3\\u003cbr\\u003eAvg Style: 45.0\\u003cbr\\u003eChampions & Style Scores:\\u003cbr\\u003eAmbessa: 55\\u003cbr\\u003eCamille: 40\\u003cbr\\u003eGangplank: 75\\u003cbr\\u003eGnar: 45\\u003cbr\\u003eLillia: 80\\u003cbr\\u003eNilah: 25\\u003cbr\\u003eViego: 20\\u003cbr\\u003eYasuo: 20\\u003cbr\\u003eYone: 45\"],[\"Hero Type: Mage\\u003cbr\\u003eDifficulty: 1\\u003cbr\\u003eAvg Style: 95.0\\u003cbr\\u003eChampions & Style Scores:\\u003cbr\\u003eAnnie: 100\\u003cbr\\u003eKarma: 100\\u003cbr\\u003eLux: 90\\u003cbr\\u003eMalzahar: 100\\u003cbr\\u003eMorgana: 100\\u003cbr\\u003eNeeko: 80\",\"Hero Type: Mage\\u003cbr\\u003eDifficulty: 2\\u003cbr\\u003eAvg Style: 91.7\\u003cbr\\u003eChampions & Style Scores:\\u003cbr\\u003eAhri: 100\\u003cbr\\u003eAurora: 100\\u003cbr\\u003eBrand: 100\\u003cbr\\u003eFiddlesticks: 100\\u003cbr\\u003eHeimerdinger: 100\\u003cbr\\u003eKarthus: 100\\u003cbr\\u003eKayle: 20\\u003cbr\\u003eKennen: 65\\u003cbr\\u003eLissandra: 100\\u003cbr\\u003eMel: 100\\u003cbr\\u003eOrianna: 90\\u003cbr\\u003eRyze: 100\\u003cbr\\u003eSwain: 100\\u003cbr\\u003eSyndra: 100\\u003cbr\\u003eTaliyah: 100\\u003cbr\\u003eTwistedFate: 65\\u003cbr\\u003eVeigar: 100\\u003cbr\\u003eVelkoz: 100\\u003cbr\\u003eVex: 90\\u003cbr\\u003eVladimir: 100\\u003cbr\\u003eXerath: 90\\u003cbr\\u003eZiggs: 90\\u003cbr\\u003eZyra: 100\",\"Hero Type: Mage\\u003cbr\\u003eDifficulty: 3\\u003cbr\\u003eAvg Style: 86.9\\u003cbr\\u003eChampions & Style Scores:\\u003cbr\\u003eAnivia: 100\\u003cbr\\u003eAurelionSol: 100\\u003cbr\\u003eAzir: 45\\u003cbr\\u003eCassiopeia: 100\\u003cbr\\u003eHwei: 90\\u003cbr\\u003eSylas: 70\\u003cbr\\u003eViktor: 90\\u003cbr\\u003eZoe: 100\"],[\"Hero Type: Marksman\\u003cbr\\u003eDifficulty: 1\\u003cbr\\u003eAvg Style: 25.8\\u003cbr\\u003eChampions & Style Scores:\\u003cbr\\u003eAshe: 20\\u003cbr\\u003eCaitlyn: 10\\u003cbr\\u003eEzreal: 45\\u003cbr\\u003eMissFortune: 30\\u003cbr\\u003eTeemo: 30\\u003cbr\\u003eTristana: 20\",\"Hero Type: Marksman\\u003cbr\\u003eDifficulty: 2\\u003cbr\\u003eAvg Style: 18.1\\u003cbr\\u003eChampions & Style Scores:\\u003cbr\\u003eCorki: 45\\u003cbr\\u003eDraven: 10\\u003cbr\\u003eGraves: 20\\u003cbr\\u003eJayce: 45\\u003cbr\\u003eJhin: 20\\u003cbr\\u003eJinx: 10\\u003cbr\\u003eKaisa: 10\\u003cbr\\u003eKogMaw: 10\\u003cbr\\u003eLucian: 30\\u003cbr\\u003eQuinn: 20\\u003cbr\\u003eSamira: 0\\u003cbr\\u003eSivir: 10\\u003cbr\\u003eSmolder: 10\\u003cbr\\u003eTwitch: 0\\u003cbr\\u003eVarus: 20\\u003cbr\\u003eVayne: 0\\u003cbr\\u003eXayah: 30\\u003cbr\\u003eZeri: 35\",\"Hero Type: Marksman\\u003cbr\\u003eDifficulty: 3\\u003cbr\\u003eAvg Style: 12.8\\u003cbr\\u003eChampions & Style Scores:\\u003cbr\\u003eAkshan: 1\\u003cbr\\u003eAphelios: 20\\u003cbr\\u003eKalista: 10\\u003cbr\\u003eKindred: 20\"],[\"Hero Type: Support\\u003cbr\\u003eDifficulty: 1\\u003cbr\\u003eAvg Style: 95.0\\u003cbr\\u003eChampions & Style Scores:\\u003cbr\\u003eJanna: 100\\u003cbr\\u003eMilio: 80\\u003cbr\\u003eSeraphine: 100\\u003cbr\\u003eSona: 90\\u003cbr\\u003eSoraka: 100\\u003cbr\\u003eYuumi: 100\",\"Hero Type: Support\\u003cbr\\u003eDifficulty: 2\\u003cbr\\u003eAvg Style: 74.4\\u003cbr\\u003eChampions & Style Scores:\\u003cbr\\u003eLulu: 80\\u003cbr\\u003eNami: 90\\u003cbr\\u003ePyke: 50\\u003cbr\\u003eRakan: 90\\u003cbr\\u003eRenata: 80\\u003cbr\\u003eSenna: 30\\u003cbr\\u003eTaric: 75\\u003cbr\\u003eZilean: 100\",\"Hero Type: Support\\u003cbr\\u003eDifficulty: 3\\u003cbr\\u003eAvg Style: 50.0\\u003cbr\\u003eChampions & Style Scores:\\u003cbr\\u003eBard: 65\\u003cbr\\u003eIvern: 10\\u003cbr\\u003eThresh: 75\"],[\"Hero Type: Tank\\u003cbr\\u003eDifficulty: 1\\u003cbr\\u003eAvg Style: 75.4\\u003cbr\\u003eChampions & Style Scores:\\u003cbr\\u003eAlistar: 65\\u003cbr\\u003eAmumu: 90\\u003cbr\\u003eBlitzcrank: 90\\u003cbr\\u003eChogath: 65\\u003cbr\\u003eDrMundo: 55\\u003cbr\\u003eLeona: 90\\u003cbr\\u003eMalphite: 75\\u003cbr\\u003eMaokai: 75\\u003cbr\\u003eNunu: 80\\u003cbr\\u003eRammus: 65\\u003cbr\\u003eSion: 65\\u003cbr\\u003eTahmKench: 65\\u003cbr\\u003eZac: 100\",\"Hero Type: Tank\\u003cbr\\u003eDifficulty: 2\\u003cbr\\u003eAvg Style: 75.5\\u003cbr\\u003eChampions & Style Scores:\\u003cbr\\u003eBraum: 90\\u003cbr\\u003eGalio: 100\\u003cbr\\u003eNautilus: 80\\u003cbr\\u003eOrnn: 60\\u003cbr\\u003ePoppy: 75\\u003cbr\\u003eRell: 85\\u003cbr\\u003eSejuani: 75\\u003cbr\\u003eShen: 45\\u003cbr\\u003eSinged: 100\\u003cbr\\u003eSkarner: 45\",\"Hero Type: Tank\\u003cbr\\u003eDifficulty: 3\\u003cbr\\u003eAvg Style: 30.0\\u003cbr\\u003eChampions & Style Scores:\\u003cbr\\u003eKSante: 30\"]],\"hovertemplate\":\"%{customdata}\\u003cextra\\u003e\\u003c\\u002fextra\\u003e\",\"text\":[[40.0,71.2,66.7],[40.6,45.9,45.0],[95.0,91.7,86.9],[25.8,18.1,12.8],[95.0,74.4,50.0],[75.4,75.5,30.0]],\"textfont\":{\"size\":10},\"texttemplate\":\"%{text}\",\"x\":[1,2,3],\"y\":[\"Assassin\",\"Fighter\",\"Mage\",\"Marksman\",\"Support\",\"Tank\"],\"z\":[[40.0,71.25,66.66666666666667],[40.55555555555556,45.90909090909091,45.0],[95.0,91.73913043478261,86.875],[25.833333333333332,18.055555555555557,12.75],[95.0,74.375,50.0],[75.38461538461539,75.5,30.0]],\"zmid\":50,\"type\":\"heatmap\"}],                        {\"template\":{\"data\":{\"histogram2dcontour\":[{\"type\":\"histogram2dcontour\",\"colorbar\":{\"outlinewidth\":0,\"ticks\":\"\"},\"colorscale\":[[0.0,\"#0d0887\"],[0.1111111111111111,\"#46039f\"],[0.2222222222222222,\"#7201a8\"],[0.3333333333333333,\"#9c179e\"],[0.4444444444444444,\"#bd3786\"],[0.5555555555555556,\"#d8576b\"],[0.6666666666666666,\"#ed7953\"],[0.7777777777777778,\"#fb9f3a\"],[0.8888888888888888,\"#fdca26\"],[1.0,\"#f0f921\"]]}],\"choropleth\":[{\"type\":\"choropleth\",\"colorbar\":{\"outlinewidth\":0,\"ticks\":\"\"}}],\"histogram2d\":[{\"type\":\"histogram2d\",\"colorbar\":{\"outlinewidth\":0,\"ticks\":\"\"},\"colorscale\":[[0.0,\"#0d0887\"],[0.1111111111111111,\"#46039f\"],[0.2222222222222222,\"#7201a8\"],[0.3333333333333333,\"#9c179e\"],[0.4444444444444444,\"#bd3786\"],[0.5555555555555556,\"#d8576b\"],[0.6666666666666666,\"#ed7953\"],[0.7777777777777778,\"#fb9f3a\"],[0.8888888888888888,\"#fdca26\"],[1.0,\"#f0f921\"]]}],\"heatmap\":[{\"type\":\"heatmap\",\"colorbar\":{\"outlinewidth\":0,\"ticks\":\"\"},\"colorscale\":[[0.0,\"#0d0887\"],[0.1111111111111111,\"#46039f\"],[0.2222222222222222,\"#7201a8\"],[0.3333333333333333,\"#9c179e\"],[0.4444444444444444,\"#bd3786\"],[0.5555555555555556,\"#d8576b\"],[0.6666666666666666,\"#ed7953\"],[0.7777777777777778,\"#fb9f3a\"],[0.8888888888888888,\"#fdca26\"],[1.0,\"#f0f921\"]]}],\"heatmapgl\":[{\"type\":\"heatmapgl\",\"colorbar\":{\"outlinewidth\":0,\"ticks\":\"\"},\"colorscale\":[[0.0,\"#0d0887\"],[0.1111111111111111,\"#46039f\"],[0.2222222222222222,\"#7201a8\"],[0.3333333333333333,\"#9c179e\"],[0.4444444444444444,\"#bd3786\"],[0.5555555555555556,\"#d8576b\"],[0.6666666666666666,\"#ed7953\"],[0.7777777777777778,\"#fb9f3a\"],[0.8888888888888888,\"#fdca26\"],[1.0,\"#f0f921\"]]}],\"contourcarpet\":[{\"type\":\"contourcarpet\",\"colorbar\":{\"outlinewidth\":0,\"ticks\":\"\"}}],\"contour\":[{\"type\":\"contour\",\"colorbar\":{\"outlinewidth\":0,\"ticks\":\"\"},\"colorscale\":[[0.0,\"#0d0887\"],[0.1111111111111111,\"#46039f\"],[0.2222222222222222,\"#7201a8\"],[0.3333333333333333,\"#9c179e\"],[0.4444444444444444,\"#bd3786\"],[0.5555555555555556,\"#d8576b\"],[0.6666666666666666,\"#ed7953\"],[0.7777777777777778,\"#fb9f3a\"],[0.8888888888888888,\"#fdca26\"],[1.0,\"#f0f921\"]]}],\"surface\":[{\"type\":\"surface\",\"colorbar\":{\"outlinewidth\":0,\"ticks\":\"\"},\"colorscale\":[[0.0,\"#0d0887\"],[0.1111111111111111,\"#46039f\"],[0.2222222222222222,\"#7201a8\"],[0.3333333333333333,\"#9c179e\"],[0.4444444444444444,\"#bd3786\"],[0.5555555555555556,\"#d8576b\"],[0.6666666666666666,\"#ed7953\"],[0.7777777777777778,\"#fb9f3a\"],[0.8888888888888888,\"#fdca26\"],[1.0,\"#f0f921\"]]}],\"mesh3d\":[{\"type\":\"mesh3d\",\"colorbar\":{\"outlinewidth\":0,\"ticks\":\"\"}}],\"scatter\":[{\"fillpattern\":{\"fillmode\":\"overlay\",\"size\":10,\"solidity\":0.2},\"type\":\"scatter\"}],\"parcoords\":[{\"type\":\"parcoords\",\"line\":{\"colorbar\":{\"outlinewidth\":0,\"ticks\":\"\"}}}],\"scatterpolargl\":[{\"type\":\"scatterpolargl\",\"marker\":{\"colorbar\":{\"outlinewidth\":0,\"ticks\":\"\"}}}],\"bar\":[{\"error_x\":{\"color\":\"#2a3f5f\"},\"error_y\":{\"color\":\"#2a3f5f\"},\"marker\":{\"line\":{\"color\":\"#E5ECF6\",\"width\":0.5},\"pattern\":{\"fillmode\":\"overlay\",\"size\":10,\"solidity\":0.2}},\"type\":\"bar\"}],\"scattergeo\":[{\"type\":\"scattergeo\",\"marker\":{\"colorbar\":{\"outlinewidth\":0,\"ticks\":\"\"}}}],\"scatterpolar\":[{\"type\":\"scatterpolar\",\"marker\":{\"colorbar\":{\"outlinewidth\":0,\"ticks\":\"\"}}}],\"histogram\":[{\"marker\":{\"pattern\":{\"fillmode\":\"overlay\",\"size\":10,\"solidity\":0.2}},\"type\":\"histogram\"}],\"scattergl\":[{\"type\":\"scattergl\",\"marker\":{\"colorbar\":{\"outlinewidth\":0,\"ticks\":\"\"}}}],\"scatter3d\":[{\"type\":\"scatter3d\",\"line\":{\"colorbar\":{\"outlinewidth\":0,\"ticks\":\"\"}},\"marker\":{\"colorbar\":{\"outlinewidth\":0,\"ticks\":\"\"}}}],\"scattermapbox\":[{\"type\":\"scattermapbox\",\"marker\":{\"colorbar\":{\"outlinewidth\":0,\"ticks\":\"\"}}}],\"scatterternary\":[{\"type\":\"scatterternary\",\"marker\":{\"colorbar\":{\"outlinewidth\":0,\"ticks\":\"\"}}}],\"scattercarpet\":[{\"type\":\"scattercarpet\",\"marker\":{\"colorbar\":{\"outlinewidth\":0,\"ticks\":\"\"}}}],\"carpet\":[{\"aaxis\":{\"endlinecolor\":\"#2a3f5f\",\"gridcolor\":\"white\",\"linecolor\":\"white\",\"minorgridcolor\":\"white\",\"startlinecolor\":\"#2a3f5f\"},\"baxis\":{\"endlinecolor\":\"#2a3f5f\",\"gridcolor\":\"white\",\"linecolor\":\"white\",\"minorgridcolor\":\"white\",\"startlinecolor\":\"#2a3f5f\"},\"type\":\"carpet\"}],\"table\":[{\"cells\":{\"fill\":{\"color\":\"#EBF0F8\"},\"line\":{\"color\":\"white\"}},\"header\":{\"fill\":{\"color\":\"#C8D4E3\"},\"line\":{\"color\":\"white\"}},\"type\":\"table\"}],\"barpolar\":[{\"marker\":{\"line\":{\"color\":\"#E5ECF6\",\"width\":0.5},\"pattern\":{\"fillmode\":\"overlay\",\"size\":10,\"solidity\":0.2}},\"type\":\"barpolar\"}],\"pie\":[{\"automargin\":true,\"type\":\"pie\"}]},\"layout\":{\"autotypenumbers\":\"strict\",\"colorway\":[\"#636efa\",\"#EF553B\",\"#00cc96\",\"#ab63fa\",\"#FFA15A\",\"#19d3f3\",\"#FF6692\",\"#B6E880\",\"#FF97FF\",\"#FECB52\"],\"font\":{\"color\":\"#2a3f5f\"},\"hovermode\":\"closest\",\"hoverlabel\":{\"align\":\"left\"},\"paper_bgcolor\":\"white\",\"plot_bgcolor\":\"#E5ECF6\",\"polar\":{\"bgcolor\":\"#E5ECF6\",\"angularaxis\":{\"gridcolor\":\"white\",\"linecolor\":\"white\",\"ticks\":\"\"},\"radialaxis\":{\"gridcolor\":\"white\",\"linecolor\":\"white\",\"ticks\":\"\"}},\"ternary\":{\"bgcolor\":\"#E5ECF6\",\"aaxis\":{\"gridcolor\":\"white\",\"linecolor\":\"white\",\"ticks\":\"\"},\"baxis\":{\"gridcolor\":\"white\",\"linecolor\":\"white\",\"ticks\":\"\"},\"caxis\":{\"gridcolor\":\"white\",\"linecolor\":\"white\",\"ticks\":\"\"}},\"coloraxis\":{\"colorbar\":{\"outlinewidth\":0,\"ticks\":\"\"}},\"colorscale\":{\"sequential\":[[0.0,\"#0d0887\"],[0.1111111111111111,\"#46039f\"],[0.2222222222222222,\"#7201a8\"],[0.3333333333333333,\"#9c179e\"],[0.4444444444444444,\"#bd3786\"],[0.5555555555555556,\"#d8576b\"],[0.6666666666666666,\"#ed7953\"],[0.7777777777777778,\"#fb9f3a\"],[0.8888888888888888,\"#fdca26\"],[1.0,\"#f0f921\"]],\"sequentialminus\":[[0.0,\"#0d0887\"],[0.1111111111111111,\"#46039f\"],[0.2222222222222222,\"#7201a8\"],[0.3333333333333333,\"#9c179e\"],[0.4444444444444444,\"#bd3786\"],[0.5555555555555556,\"#d8576b\"],[0.6666666666666666,\"#ed7953\"],[0.7777777777777778,\"#fb9f3a\"],[0.8888888888888888,\"#fdca26\"],[1.0,\"#f0f921\"]],\"diverging\":[[0,\"#8e0152\"],[0.1,\"#c51b7d\"],[0.2,\"#de77ae\"],[0.3,\"#f1b6da\"],[0.4,\"#fde0ef\"],[0.5,\"#f7f7f7\"],[0.6,\"#e6f5d0\"],[0.7,\"#b8e186\"],[0.8,\"#7fbc41\"],[0.9,\"#4d9221\"],[1,\"#276419\"]]},\"xaxis\":{\"gridcolor\":\"white\",\"linecolor\":\"white\",\"ticks\":\"\",\"title\":{\"standoff\":15},\"zerolinecolor\":\"white\",\"automargin\":true,\"zerolinewidth\":2},\"yaxis\":{\"gridcolor\":\"white\",\"linecolor\":\"white\",\"ticks\":\"\",\"title\":{\"standoff\":15},\"zerolinecolor\":\"white\",\"automargin\":true,\"zerolinewidth\":2},\"scene\":{\"xaxis\":{\"backgroundcolor\":\"#E5ECF6\",\"gridcolor\":\"white\",\"linecolor\":\"white\",\"showbackground\":true,\"ticks\":\"\",\"zerolinecolor\":\"white\",\"gridwidth\":2},\"yaxis\":{\"backgroundcolor\":\"#E5ECF6\",\"gridcolor\":\"white\",\"linecolor\":\"white\",\"showbackground\":true,\"ticks\":\"\",\"zerolinecolor\":\"white\",\"gridwidth\":2},\"zaxis\":{\"backgroundcolor\":\"#E5ECF6\",\"gridcolor\":\"white\",\"linecolor\":\"white\",\"showbackground\":true,\"ticks\":\"\",\"zerolinecolor\":\"white\",\"gridwidth\":2}},\"shapedefaults\":{\"line\":{\"color\":\"#2a3f5f\"}},\"annotationdefaults\":{\"arrowcolor\":\"#2a3f5f\",\"arrowhead\":0,\"arrowwidth\":1},\"geo\":{\"bgcolor\":\"white\",\"landcolor\":\"#E5ECF6\",\"subunitcolor\":\"white\",\"showland\":true,\"showlakes\":true,\"lakecolor\":\"white\"},\"title\":{\"x\":0.05},\"mapbox\":{\"style\":\"light\"}}},\"title\":{\"text\":\"Average Style Score by Hero Type and Difficulty\\u003cbr\\u003e\\u003csub\\u003eHover for individual champion style scores\\u003c\\u002fsub\\u003e\"},\"xaxis\":{\"title\":{\"text\":\"Difficulty Level\"}},\"yaxis\":{\"title\":{\"text\":\"Hero Type\"}},\"width\":800,\"height\":600},                        {\"responsive\": true}                    ).then(function(){\n",
       "                            \n",
       "var gd = document.getElementById('2658d155-f5be-409b-8c88-b55de72eed3a');\n",
       "var x = new MutationObserver(function (mutations, observer) {{\n",
       "        var display = window.getComputedStyle(gd).display;\n",
       "        if (!display || display === 'none') {{\n",
       "            console.log([gd, 'removed!']);\n",
       "            Plotly.purge(gd);\n",
       "            observer.disconnect();\n",
       "        }}\n",
       "}});\n",
       "\n",
       "// Listen for the removal of the full notebook cells\n",
       "var notebookContainer = gd.closest('#notebook-container');\n",
       "if (notebookContainer) {{\n",
       "    x.observe(notebookContainer, {childList: true});\n",
       "}}\n",
       "\n",
       "// Listen for the clearing of the current output cell\n",
       "var outputEl = gd.closest('.output');\n",
       "if (outputEl) {{\n",
       "    x.observe(outputEl, {childList: true});\n",
       "}}\n",
       "\n",
       "                        })                };                            </script>        </div>\n",
       "</body>\n",
       "</html>"
      ]
     },
     "metadata": {},
     "output_type": "display_data"
    }
   ],
   "source": [
    "# Average Style Score by Hero Type and Difficulty\n",
    "pivot_style = df.pivot_table(values='style', \n",
    "                            index='herotype', \n",
    "                            columns='difficulty', \n",
    "                            aggfunc='mean')\n",
    "\n",
    "hover_text_style = []\n",
    "for herotype in pivot_style.index:\n",
    "    hover_row = []\n",
    "    for difficulty in pivot_style.columns:\n",
    "        champions_info = df[(df['herotype'] == herotype) & (df['difficulty'] == difficulty)]\n",
    "        if not champions_info.empty:\n",
    "            avg_style = champions_info['style'].mean()\n",
    "            champion_details = []\n",
    "            for _, champ in champions_info.iterrows():\n",
    "                champion_details.append(f\"{champ['apiname']}: {champ['style']}\")\n",
    "            detail_text = '<br>'.join(champion_details)\n",
    "            hover_text_style_cell = f\"Hero Type: {herotype}<br>Difficulty: {difficulty}<br>Avg Style: {avg_style:.1f}<br>Champions & Style Scores:<br>{detail_text}\"\n",
    "        else:\n",
    "            hover_text_style_cell = f\"Hero Type: {herotype}<br>Difficulty: {difficulty}<br>No data\"\n",
    "        hover_row.append(hover_text_style_cell)\n",
    "    hover_text_style.append(hover_row)\n",
    "\n",
    "fig2 = go.Figure(data=go.Heatmap(\n",
    "    z=pivot_style.values,\n",
    "    x=pivot_style.columns,\n",
    "    y=pivot_style.index,\n",
    "    colorscale='RdBu_r',\n",
    "    zmid=50,\n",
    "    text=np.round(pivot_style.values, 1),\n",
    "    texttemplate=\"%{text}\",\n",
    "    textfont={\"size\": 10},\n",
    "    hovertemplate='%{customdata}<extra></extra>',\n",
    "    customdata=hover_text_style,\n",
    "    colorbar=dict(title=\"Average Style Score<br>(0=Attacker, 100=Caster)\")\n",
    "))\n",
    "\n",
    "fig2.update_layout(\n",
    "    title=\"Average Style Score by Hero Type and Difficulty<br><sub>Hover for individual champion style scores</sub>\",\n",
    "    xaxis_title=\"Difficulty Level\",\n",
    "    yaxis_title=\"Hero Type\",\n",
    "    width=800,\n",
    "    height=600\n",
    ")\n",
    "\n",
    "fig2.show()"
   ]
  },
  {
   "cell_type": "code",
   "execution_count": 8,
   "metadata": {
    "execution": {
     "iopub.execute_input": "2025-07-29T03:43:01.342879Z",
     "iopub.status.busy": "2025-07-29T03:43:01.342594Z",
     "iopub.status.idle": "2025-07-29T03:43:01.376466Z",
     "shell.execute_reply": "2025-07-29T03:43:01.375379Z",
     "shell.execute_reply.started": "2025-07-29T03:43:01.342854Z"
    },
    "trusted": true
   },
   "outputs": [
    {
     "data": {
      "text/html": [
       "<html>\n",
       "<head><meta charset=\"utf-8\" /></head>\n",
       "<body>\n",
       "    <div>            <script src=\"https://cdnjs.cloudflare.com/ajax/libs/mathjax/2.7.5/MathJax.js?config=TeX-AMS-MML_SVG\"></script><script type=\"text/javascript\">if (window.MathJax && window.MathJax.Hub && window.MathJax.Hub.Config) {window.MathJax.Hub.Config({SVG: {font: \"STIX-Web\"}});}</script>                <script type=\"text/javascript\">window.PlotlyConfig = {MathJaxConfig: 'local'};</script>\n",
       "        <script charset=\"utf-8\" src=\"https://cdn.plot.ly/plotly-2.35.2.min.js\"></script>                <div id=\"727172a5-ff39-4f8d-84ce-0280748cc2a3\" class=\"plotly-graph-div\" style=\"height:500px; width:800px;\"></div>            <script type=\"text/javascript\">                                    window.PLOTLYENV=window.PLOTLYENV || {};                                    if (document.getElementById(\"727172a5-ff39-4f8d-84ce-0280748cc2a3\")) {                    Plotly.newPlot(                        \"727172a5-ff39-4f8d-84ce-0280748cc2a3\",                        [{\"colorbar\":{\"title\":{\"text\":\"Number of Champions\"}},\"colorscale\":[[0.0,\"#440154\"],[0.1111111111111111,\"#482878\"],[0.2222222222222222,\"#3e4989\"],[0.3333333333333333,\"#31688e\"],[0.4444444444444444,\"#26828e\"],[0.5555555555555556,\"#1f9e89\"],[0.6666666666666666,\"#35b779\"],[0.7777777777777778,\"#6ece58\"],[0.8888888888888888,\"#b5de2b\"],[1.0,\"#fde725\"]],\"customdata\":[[\"Style Category: Attacker-Heavy\\u003cbr\\u003eDifficulty: 1\\u003cbr\\u003eCount: 8\\u003cbr\\u003eChampions:\\u003cbr\\u003eAshe\\u003cbr\\u003eCaitlyn\\u003cbr\\u003eJax\\u003cbr\\u003eMasterYi\\u003cbr\\u003eNasus\\u003cbr\\u003eTristana\\u003cbr\\u003eTrundle\\u003cbr\\u003eTryndamere\",\"Style Category: Attacker-Heavy\\u003cbr\\u003eDifficulty: 2\\u003cbr\\u003eCount: 19\\u003cbr\\u003eChampions:\\u003cbr\\u003eAatrox\\u003cbr\\u003eBelveth\\u003cbr\\u003eBriar\\u003cbr\\u003eDraven\\u003cbr\\u003eFiora\\u003cbr\\u003eGraves\\u003cbr\\u003eJhin\\u003cbr\\u003eJinx\\u003cbr\\u003eKaisa\\u003cbr\\u003eKayle\\u003cbr\\u003eKayn\\u003cbr\\u003eKogMaw\\u003cbr\\u003e... and 7 more\",\"Style Category: Attacker-Heavy\\u003cbr\\u003eDifficulty: 3\\u003cbr\\u003eCount: 8\\u003cbr\\u003eChampions:\\u003cbr\\u003eAkshan\\u003cbr\\u003eAphelios\\u003cbr\\u003eIvern\\u003cbr\\u003eKalista\\u003cbr\\u003eKindred\\u003cbr\\u003eNilah\\u003cbr\\u003eViego\\u003cbr\\u003eYasuo\"],[\"Style Category: Attacker-Leaning\\u003cbr\\u003eDifficulty: 1\\u003cbr\\u003eCount: 10\\u003cbr\\u003eChampions:\\u003cbr\\u003eEzreal\\u003cbr\\u003eMissFortune\\u003cbr\\u003eNocturne\\u003cbr\\u003eOlaf\\u003cbr\\u003eRenekton\\u003cbr\\u003eTeemo\\u003cbr\\u003eUdyr\\u003cbr\\u003eVolibear\\u003cbr\\u003eWarwick\\u003cbr\\u003eXinZhao\",\"Style Category: Attacker-Leaning\\u003cbr\\u003eDifficulty: 2\\u003cbr\\u003eCount: 17\\u003cbr\\u003eChampions:\\u003cbr\\u003eCorki\\u003cbr\\u003eGwen\\u003cbr\\u003eIrelia\\u003cbr\\u003eJayce\\u003cbr\\u003eKled\\u003cbr\\u003eKled\\u003cbr\\u003eLucian\\u003cbr\\u003ePyke\\u003cbr\\u003eRekSai\\u003cbr\\u003eRengar\\u003cbr\\u003eSenna\\u003cbr\\u003eSett\\u003cbr\\u003e... and 5 more\",\"Style Category: Attacker-Leaning\\u003cbr\\u003eDifficulty: 3\\u003cbr\\u003eCount: 5\\u003cbr\\u003eChampions:\\u003cbr\\u003eAzir\\u003cbr\\u003eCamille\\u003cbr\\u003eGnar\\u003cbr\\u003eKSante\\u003cbr\\u003eYone\"],[\"Style Category: Balanced\\u003cbr\\u003eDifficulty: 1\\u003cbr\\u003eCount: 16\\u003cbr\\u003eChampions:\\u003cbr\\u003eAlistar\\u003cbr\\u003eChogath\\u003cbr\\u003eDiana\\u003cbr\\u003eDrMundo\\u003cbr\\u003eGaren\\u003cbr\\u003eJarvanIV\\u003cbr\\u003eMalphite\\u003cbr\\u003eMaokai\\u003cbr\\u003eNaafiri\\u003cbr\\u003ePantheon\\u003cbr\\u003eRammus\\u003cbr\\u003eShyvana\\u003cbr\\u003e... and 4 more\",\"Style Category: Balanced\\u003cbr\\u003eDifficulty: 2\\u003cbr\\u003eCount: 20\\u003cbr\\u003eChampions:\\u003cbr\\u003eAkali\\u003cbr\\u003eDarius\\u003cbr\\u003eElise\\u003cbr\\u003eEvelynn\\u003cbr\\u003eGnarBig\\u003cbr\\u003eHecarim\\u003cbr\\u003eIllaoi\\u003cbr\\u003eKennen\\u003cbr\\u003eKhazix\\u003cbr\\u003eLeeSin\\u003cbr\\u003eNidalee\\u003cbr\\u003eOrnn\\u003cbr\\u003e... and 8 more\",\"Style Category: Balanced\\u003cbr\\u003eDifficulty: 3\\u003cbr\\u003eCount: 8\\u003cbr\\u003eChampions:\\u003cbr\\u003eAmbessa\\u003cbr\\u003eBard\\u003cbr\\u003eEkko\\u003cbr\\u003eGangplank\\u003cbr\\u003eQiyana\\u003cbr\\u003eSylas\\u003cbr\\u003eThresh\\u003cbr\\u003eZed\"],[\"Style Category: Caster-Leaning\\u003cbr\\u003eDifficulty: 1\\u003cbr\\u003eCount: 17\\u003cbr\\u003eChampions:\\u003cbr\\u003eAmumu\\u003cbr\\u003eAnnie\\u003cbr\\u003eBlitzcrank\\u003cbr\\u003eJanna\\u003cbr\\u003eKarma\\u003cbr\\u003eLeona\\u003cbr\\u003eLux\\u003cbr\\u003eMalzahar\\u003cbr\\u003eMilio\\u003cbr\\u003eMorgana\\u003cbr\\u003eNeeko\\u003cbr\\u003eNunu\\u003cbr\\u003e... and 5 more\",\"Style Category: Caster-Leaning\\u003cbr\\u003eDifficulty: 2\\u003cbr\\u003eCount: 37\\u003cbr\\u003eChampions:\\u003cbr\\u003eAhri\\u003cbr\\u003eAurora\\u003cbr\\u003eBrand\\u003cbr\\u003eBraum\\u003cbr\\u003eFiddlesticks\\u003cbr\\u003eFizz\\u003cbr\\u003eGalio\\u003cbr\\u003eGragas\\u003cbr\\u003eHeimerdinger\\u003cbr\\u003eKarthus\\u003cbr\\u003eKassadin\\u003cbr\\u003eKatarina\\u003cbr\\u003e... and 25 more\",\"Style Category: Caster-Leaning\\u003cbr\\u003eDifficulty: 3\\u003cbr\\u003eCount: 7\\u003cbr\\u003eChampions:\\u003cbr\\u003eAnivia\\u003cbr\\u003eAurelionSol\\u003cbr\\u003eCassiopeia\\u003cbr\\u003eHwei\\u003cbr\\u003eLillia\\u003cbr\\u003eViktor\\u003cbr\\u003eZoe\"]],\"hovertemplate\":\"%{customdata}\\u003cextra\\u003e\\u003c\\u002fextra\\u003e\",\"text\":[[8,19,8],[10,17,5],[16,20,8],[17,37,7]],\"textfont\":{\"size\":12},\"texttemplate\":\"%{text}\",\"x\":[1,2,3],\"y\":[\"Attacker-Heavy\",\"Attacker-Leaning\",\"Balanced\",\"Caster-Leaning\"],\"z\":[[8,19,8],[10,17,5],[16,20,8],[17,37,7]],\"type\":\"heatmap\"}],                        {\"template\":{\"data\":{\"histogram2dcontour\":[{\"type\":\"histogram2dcontour\",\"colorbar\":{\"outlinewidth\":0,\"ticks\":\"\"},\"colorscale\":[[0.0,\"#0d0887\"],[0.1111111111111111,\"#46039f\"],[0.2222222222222222,\"#7201a8\"],[0.3333333333333333,\"#9c179e\"],[0.4444444444444444,\"#bd3786\"],[0.5555555555555556,\"#d8576b\"],[0.6666666666666666,\"#ed7953\"],[0.7777777777777778,\"#fb9f3a\"],[0.8888888888888888,\"#fdca26\"],[1.0,\"#f0f921\"]]}],\"choropleth\":[{\"type\":\"choropleth\",\"colorbar\":{\"outlinewidth\":0,\"ticks\":\"\"}}],\"histogram2d\":[{\"type\":\"histogram2d\",\"colorbar\":{\"outlinewidth\":0,\"ticks\":\"\"},\"colorscale\":[[0.0,\"#0d0887\"],[0.1111111111111111,\"#46039f\"],[0.2222222222222222,\"#7201a8\"],[0.3333333333333333,\"#9c179e\"],[0.4444444444444444,\"#bd3786\"],[0.5555555555555556,\"#d8576b\"],[0.6666666666666666,\"#ed7953\"],[0.7777777777777778,\"#fb9f3a\"],[0.8888888888888888,\"#fdca26\"],[1.0,\"#f0f921\"]]}],\"heatmap\":[{\"type\":\"heatmap\",\"colorbar\":{\"outlinewidth\":0,\"ticks\":\"\"},\"colorscale\":[[0.0,\"#0d0887\"],[0.1111111111111111,\"#46039f\"],[0.2222222222222222,\"#7201a8\"],[0.3333333333333333,\"#9c179e\"],[0.4444444444444444,\"#bd3786\"],[0.5555555555555556,\"#d8576b\"],[0.6666666666666666,\"#ed7953\"],[0.7777777777777778,\"#fb9f3a\"],[0.8888888888888888,\"#fdca26\"],[1.0,\"#f0f921\"]]}],\"heatmapgl\":[{\"type\":\"heatmapgl\",\"colorbar\":{\"outlinewidth\":0,\"ticks\":\"\"},\"colorscale\":[[0.0,\"#0d0887\"],[0.1111111111111111,\"#46039f\"],[0.2222222222222222,\"#7201a8\"],[0.3333333333333333,\"#9c179e\"],[0.4444444444444444,\"#bd3786\"],[0.5555555555555556,\"#d8576b\"],[0.6666666666666666,\"#ed7953\"],[0.7777777777777778,\"#fb9f3a\"],[0.8888888888888888,\"#fdca26\"],[1.0,\"#f0f921\"]]}],\"contourcarpet\":[{\"type\":\"contourcarpet\",\"colorbar\":{\"outlinewidth\":0,\"ticks\":\"\"}}],\"contour\":[{\"type\":\"contour\",\"colorbar\":{\"outlinewidth\":0,\"ticks\":\"\"},\"colorscale\":[[0.0,\"#0d0887\"],[0.1111111111111111,\"#46039f\"],[0.2222222222222222,\"#7201a8\"],[0.3333333333333333,\"#9c179e\"],[0.4444444444444444,\"#bd3786\"],[0.5555555555555556,\"#d8576b\"],[0.6666666666666666,\"#ed7953\"],[0.7777777777777778,\"#fb9f3a\"],[0.8888888888888888,\"#fdca26\"],[1.0,\"#f0f921\"]]}],\"surface\":[{\"type\":\"surface\",\"colorbar\":{\"outlinewidth\":0,\"ticks\":\"\"},\"colorscale\":[[0.0,\"#0d0887\"],[0.1111111111111111,\"#46039f\"],[0.2222222222222222,\"#7201a8\"],[0.3333333333333333,\"#9c179e\"],[0.4444444444444444,\"#bd3786\"],[0.5555555555555556,\"#d8576b\"],[0.6666666666666666,\"#ed7953\"],[0.7777777777777778,\"#fb9f3a\"],[0.8888888888888888,\"#fdca26\"],[1.0,\"#f0f921\"]]}],\"mesh3d\":[{\"type\":\"mesh3d\",\"colorbar\":{\"outlinewidth\":0,\"ticks\":\"\"}}],\"scatter\":[{\"fillpattern\":{\"fillmode\":\"overlay\",\"size\":10,\"solidity\":0.2},\"type\":\"scatter\"}],\"parcoords\":[{\"type\":\"parcoords\",\"line\":{\"colorbar\":{\"outlinewidth\":0,\"ticks\":\"\"}}}],\"scatterpolargl\":[{\"type\":\"scatterpolargl\",\"marker\":{\"colorbar\":{\"outlinewidth\":0,\"ticks\":\"\"}}}],\"bar\":[{\"error_x\":{\"color\":\"#2a3f5f\"},\"error_y\":{\"color\":\"#2a3f5f\"},\"marker\":{\"line\":{\"color\":\"#E5ECF6\",\"width\":0.5},\"pattern\":{\"fillmode\":\"overlay\",\"size\":10,\"solidity\":0.2}},\"type\":\"bar\"}],\"scattergeo\":[{\"type\":\"scattergeo\",\"marker\":{\"colorbar\":{\"outlinewidth\":0,\"ticks\":\"\"}}}],\"scatterpolar\":[{\"type\":\"scatterpolar\",\"marker\":{\"colorbar\":{\"outlinewidth\":0,\"ticks\":\"\"}}}],\"histogram\":[{\"marker\":{\"pattern\":{\"fillmode\":\"overlay\",\"size\":10,\"solidity\":0.2}},\"type\":\"histogram\"}],\"scattergl\":[{\"type\":\"scattergl\",\"marker\":{\"colorbar\":{\"outlinewidth\":0,\"ticks\":\"\"}}}],\"scatter3d\":[{\"type\":\"scatter3d\",\"line\":{\"colorbar\":{\"outlinewidth\":0,\"ticks\":\"\"}},\"marker\":{\"colorbar\":{\"outlinewidth\":0,\"ticks\":\"\"}}}],\"scattermapbox\":[{\"type\":\"scattermapbox\",\"marker\":{\"colorbar\":{\"outlinewidth\":0,\"ticks\":\"\"}}}],\"scatterternary\":[{\"type\":\"scatterternary\",\"marker\":{\"colorbar\":{\"outlinewidth\":0,\"ticks\":\"\"}}}],\"scattercarpet\":[{\"type\":\"scattercarpet\",\"marker\":{\"colorbar\":{\"outlinewidth\":0,\"ticks\":\"\"}}}],\"carpet\":[{\"aaxis\":{\"endlinecolor\":\"#2a3f5f\",\"gridcolor\":\"white\",\"linecolor\":\"white\",\"minorgridcolor\":\"white\",\"startlinecolor\":\"#2a3f5f\"},\"baxis\":{\"endlinecolor\":\"#2a3f5f\",\"gridcolor\":\"white\",\"linecolor\":\"white\",\"minorgridcolor\":\"white\",\"startlinecolor\":\"#2a3f5f\"},\"type\":\"carpet\"}],\"table\":[{\"cells\":{\"fill\":{\"color\":\"#EBF0F8\"},\"line\":{\"color\":\"white\"}},\"header\":{\"fill\":{\"color\":\"#C8D4E3\"},\"line\":{\"color\":\"white\"}},\"type\":\"table\"}],\"barpolar\":[{\"marker\":{\"line\":{\"color\":\"#E5ECF6\",\"width\":0.5},\"pattern\":{\"fillmode\":\"overlay\",\"size\":10,\"solidity\":0.2}},\"type\":\"barpolar\"}],\"pie\":[{\"automargin\":true,\"type\":\"pie\"}]},\"layout\":{\"autotypenumbers\":\"strict\",\"colorway\":[\"#636efa\",\"#EF553B\",\"#00cc96\",\"#ab63fa\",\"#FFA15A\",\"#19d3f3\",\"#FF6692\",\"#B6E880\",\"#FF97FF\",\"#FECB52\"],\"font\":{\"color\":\"#2a3f5f\"},\"hovermode\":\"closest\",\"hoverlabel\":{\"align\":\"left\"},\"paper_bgcolor\":\"white\",\"plot_bgcolor\":\"#E5ECF6\",\"polar\":{\"bgcolor\":\"#E5ECF6\",\"angularaxis\":{\"gridcolor\":\"white\",\"linecolor\":\"white\",\"ticks\":\"\"},\"radialaxis\":{\"gridcolor\":\"white\",\"linecolor\":\"white\",\"ticks\":\"\"}},\"ternary\":{\"bgcolor\":\"#E5ECF6\",\"aaxis\":{\"gridcolor\":\"white\",\"linecolor\":\"white\",\"ticks\":\"\"},\"baxis\":{\"gridcolor\":\"white\",\"linecolor\":\"white\",\"ticks\":\"\"},\"caxis\":{\"gridcolor\":\"white\",\"linecolor\":\"white\",\"ticks\":\"\"}},\"coloraxis\":{\"colorbar\":{\"outlinewidth\":0,\"ticks\":\"\"}},\"colorscale\":{\"sequential\":[[0.0,\"#0d0887\"],[0.1111111111111111,\"#46039f\"],[0.2222222222222222,\"#7201a8\"],[0.3333333333333333,\"#9c179e\"],[0.4444444444444444,\"#bd3786\"],[0.5555555555555556,\"#d8576b\"],[0.6666666666666666,\"#ed7953\"],[0.7777777777777778,\"#fb9f3a\"],[0.8888888888888888,\"#fdca26\"],[1.0,\"#f0f921\"]],\"sequentialminus\":[[0.0,\"#0d0887\"],[0.1111111111111111,\"#46039f\"],[0.2222222222222222,\"#7201a8\"],[0.3333333333333333,\"#9c179e\"],[0.4444444444444444,\"#bd3786\"],[0.5555555555555556,\"#d8576b\"],[0.6666666666666666,\"#ed7953\"],[0.7777777777777778,\"#fb9f3a\"],[0.8888888888888888,\"#fdca26\"],[1.0,\"#f0f921\"]],\"diverging\":[[0,\"#8e0152\"],[0.1,\"#c51b7d\"],[0.2,\"#de77ae\"],[0.3,\"#f1b6da\"],[0.4,\"#fde0ef\"],[0.5,\"#f7f7f7\"],[0.6,\"#e6f5d0\"],[0.7,\"#b8e186\"],[0.8,\"#7fbc41\"],[0.9,\"#4d9221\"],[1,\"#276419\"]]},\"xaxis\":{\"gridcolor\":\"white\",\"linecolor\":\"white\",\"ticks\":\"\",\"title\":{\"standoff\":15},\"zerolinecolor\":\"white\",\"automargin\":true,\"zerolinewidth\":2},\"yaxis\":{\"gridcolor\":\"white\",\"linecolor\":\"white\",\"ticks\":\"\",\"title\":{\"standoff\":15},\"zerolinecolor\":\"white\",\"automargin\":true,\"zerolinewidth\":2},\"scene\":{\"xaxis\":{\"backgroundcolor\":\"#E5ECF6\",\"gridcolor\":\"white\",\"linecolor\":\"white\",\"showbackground\":true,\"ticks\":\"\",\"zerolinecolor\":\"white\",\"gridwidth\":2},\"yaxis\":{\"backgroundcolor\":\"#E5ECF6\",\"gridcolor\":\"white\",\"linecolor\":\"white\",\"showbackground\":true,\"ticks\":\"\",\"zerolinecolor\":\"white\",\"gridwidth\":2},\"zaxis\":{\"backgroundcolor\":\"#E5ECF6\",\"gridcolor\":\"white\",\"linecolor\":\"white\",\"showbackground\":true,\"ticks\":\"\",\"zerolinecolor\":\"white\",\"gridwidth\":2}},\"shapedefaults\":{\"line\":{\"color\":\"#2a3f5f\"}},\"annotationdefaults\":{\"arrowcolor\":\"#2a3f5f\",\"arrowhead\":0,\"arrowwidth\":1},\"geo\":{\"bgcolor\":\"white\",\"landcolor\":\"#E5ECF6\",\"subunitcolor\":\"white\",\"showland\":true,\"showlakes\":true,\"lakecolor\":\"white\"},\"title\":{\"x\":0.05},\"mapbox\":{\"style\":\"light\"}}},\"title\":{\"text\":\"Champion Count by Style Category and Difficulty\\u003cbr\\u003e\\u003csub\\u003eHover for champion details\\u003c\\u002fsub\\u003e\"},\"xaxis\":{\"title\":{\"text\":\"Difficulty Level\"}},\"yaxis\":{\"title\":{\"text\":\"Style Category\"}},\"width\":800,\"height\":500},                        {\"responsive\": true}                    ).then(function(){\n",
       "                            \n",
       "var gd = document.getElementById('727172a5-ff39-4f8d-84ce-0280748cc2a3');\n",
       "var x = new MutationObserver(function (mutations, observer) {{\n",
       "        var display = window.getComputedStyle(gd).display;\n",
       "        if (!display || display === 'none') {{\n",
       "            console.log([gd, 'removed!']);\n",
       "            Plotly.purge(gd);\n",
       "            observer.disconnect();\n",
       "        }}\n",
       "}});\n",
       "\n",
       "// Listen for the removal of the full notebook cells\n",
       "var notebookContainer = gd.closest('#notebook-container');\n",
       "if (notebookContainer) {{\n",
       "    x.observe(notebookContainer, {childList: true});\n",
       "}}\n",
       "\n",
       "// Listen for the clearing of the current output cell\n",
       "var outputEl = gd.closest('.output');\n",
       "if (outputEl) {{\n",
       "    x.observe(outputEl, {childList: true});\n",
       "}}\n",
       "\n",
       "                        })                };                            </script>        </div>\n",
       "</body>\n",
       "</html>"
      ]
     },
     "metadata": {},
     "output_type": "display_data"
    }
   ],
   "source": [
    "# Style Category vs Difficulty\n",
    "heatmap_data2 = df.groupby(['style_category', 'difficulty'], observed=False).size().unstack(fill_value=0)\n",
    "\n",
    "hover_text_cat = []\n",
    "for style_cat in heatmap_data2.index:\n",
    "    hover_row = []\n",
    "    for difficulty in heatmap_data2.columns:\n",
    "        champions = df[(df['style_category'] == style_cat) & (df['difficulty'] == difficulty)]['apiname'].tolist()\n",
    "        count = len(champions)\n",
    "        \n",
    "        if count == 0:\n",
    "            champion_display = 'No champions'\n",
    "        elif count <= 15:  # show ALL champs if 15 or fewer\n",
    "            champion_display = '<br>'.join(champions)\n",
    "        else:  # otherwise, show first 12 + remaining amount\n",
    "            displayed_champions = champions[:12]\n",
    "            remaining = count - 12\n",
    "            champion_display = '<br>'.join(displayed_champions) + f'<br>... and {remaining} more'\n",
    "        \n",
    "        hover_row.append(f\"Style Category: {style_cat}<br>Difficulty: {difficulty}<br>Count: {count}<br>Champions:<br>{champion_display}\")\n",
    "    hover_text_cat.append(hover_row)\n",
    "\n",
    "fig3 = go.Figure(data=go.Heatmap(\n",
    "    z=heatmap_data2.values,\n",
    "    x=heatmap_data2.columns,\n",
    "    y=heatmap_data2.index,\n",
    "    colorscale='Viridis',\n",
    "    text=heatmap_data2.values,\n",
    "    texttemplate=\"%{text}\",\n",
    "    textfont={\"size\": 12},\n",
    "    hovertemplate='%{customdata}<extra></extra>',\n",
    "    customdata=hover_text_cat,\n",
    "    colorbar=dict(title=\"Number of Champions\")\n",
    "))\n",
    "\n",
    "fig3.update_layout(\n",
    "    title=\"Champion Count by Style Category and Difficulty<br><sub>Hover for champion details</sub>\",\n",
    "    xaxis_title=\"Difficulty Level\",\n",
    "    yaxis_title=\"Style Category\",\n",
    "    width=800,\n",
    "    height=500\n",
    ")\n",
    "\n",
    "fig3.show()"
   ]
  },
  {
   "cell_type": "code",
   "execution_count": null,
   "metadata": {
    "trusted": true
   },
   "outputs": [],
   "source": []
  },
  {
   "cell_type": "markdown",
   "metadata": {},
   "source": [
    "## Key Takeaways\n",
    "----\n",
    "\n",
    "Based on the `/kaggle/input/25-s1-3-league-of-legends-champion-data-2025` data, `Caster-Leaning` champions on average, are rated for a higher difficulty. When looking at the heatmap for `Champion Count by Style Category and Difficulty` there are a total of **37 champions rated between 1.5 - 2.5** in terms of difficulty.\n",
    "\n",
    "The first heatmap `Champion Count by Hero Type and Difficulty Level` indeed shows that there are more champions with the `Mage` type classification between the ranges compared to Tanks, Supports, Marksmen, and Assassins. **The caveat here being that `Fighters` tend to play in the roles of top lane and jungle.**\n",
    "\n",
    "**Caster-Leaning Champions include:**\n",
    "* Ahri, Aurora, Brand, Braum, Fiddlesticks, Fizz, Galio, Gragas, Heimerdinger, Karthus, Kassadin, Katarina...and 25 more.\n",
    "\n",
    "**The most difficult (rated 2.5 - 3.5) in the Caster-Leaning style category being Anivia, AurelionSol, Cassiopeia, Hwei, etc.**\n",
    "\n",
    "These champions often utilize `\"skill-shots\"` that require the player to manually aim their champion's abilities in order to do damage. It is interesting to note that the champions rated with the most difficulty at least in the Caster-Leaning style category often go `Mid-lane` or `Mid` for short."
   ]
  },
  {
   "cell_type": "markdown",
   "metadata": {},
   "source": [
    "## Conclusion & Limitations\n",
    "----\n",
    "\n",
    "League of Legends offers numerous champions that fit different playstyles. The determination of whether a champion is less or more difficult is ultimately up to the player's experience with `MOBA: Multiplayer Online Battle Arena` games. In the case of League of Legends, `Caster-Leaning` champions are a great recommendation for intermediate-level players. \n",
    "\n",
    "***As a starting point for new players,*** the `Fighter` champions are rated lower in difficulty and are traditionally placed in roles such as `Top-lane` or `Jungle`. These roles often play against a single opponent or \"camps\" to obtain gold, experience, etc.\n",
    "\n",
    "The limitations of this analysis include but are not limited to:\n",
    "1. The dataset utilizes Riot's rating to assess champion difficulty rather than the player.\n",
    "2. Champions that are less or more difficult wildly differ in elo-divisions. For example, a champion may be pereceived as lower difficulty in low-elo ennvironments. In high-elo environments, the same champion may have stricter execution requirements ultimately leading to a higher difficulty. This can be seen on websites that track overall winrates for champions based on the elo that they are being played at.\n",
    "3. Factors that contribute to difficulty rating. Is it the total number of skillshots? Having a smaller or larger health pool? Having a smaller or larger mana pool? Damage numbers across various skill levels? Itemization costs and opportunities? Number of known champion counters? The list continues...\n",
    "4. Changes in champion balancing and/or the introduction of new champions."
   ]
  }
 ],
 "metadata": {
  "kaggle": {
   "accelerator": "none",
   "dataSources": [
    {
     "datasetId": 6648019,
     "sourceId": 10724075,
     "sourceType": "datasetVersion"
    }
   ],
   "dockerImageVersionId": 31089,
   "isGpuEnabled": false,
   "isInternetEnabled": false,
   "language": "python",
   "sourceType": "notebook"
  },
  "kernelspec": {
   "display_name": "Python 3",
   "language": "python",
   "name": "python3"
  },
  "language_info": {
   "codemirror_mode": {
    "name": "ipython",
    "version": 3
   },
   "file_extension": ".py",
   "mimetype": "text/x-python",
   "name": "python",
   "nbconvert_exporter": "python",
   "pygments_lexer": "ipython3",
   "version": "3.13.0"
  }
 },
 "nbformat": 4,
 "nbformat_minor": 4
}
